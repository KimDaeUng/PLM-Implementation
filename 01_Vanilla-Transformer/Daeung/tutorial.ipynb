{
  "nbformat": 4,
  "nbformat_minor": 0,
  "metadata": {
    "orig_nbformat": 4,
    "kernelspec": {
      "name": "python3",
      "display_name": "Python 3",
      "language": "python"
    },
    "colab": {
      "name": "tutorial.ipynb",
      "provenance": [],
      "collapsed_sections": [],
      "machine_shape": "hm"
    },
    "accelerator": "GPU"
  },
  "cells": [
    {
      "cell_type": "code",
      "metadata": {
        "id": "SnHERcuMeeY3"
      },
      "source": [
        "import numpy as np\n",
        "import torch\n",
        "import torch.nn as nn\n",
        "import torch.nn.functional as F\n",
        "import math, copy, time\n",
        "from torch.autograd import Variable\n",
        "import matplotlib.pyplot as plt\n",
        "import seaborn\n",
        "seaborn.set_context(context=\"talk\")"
      ],
      "execution_count": 1,
      "outputs": []
    },
    {
      "cell_type": "markdown",
      "metadata": {
        "id": "CMcCrvGiezyp"
      },
      "source": [
        "# Background"
      ]
    },
    {
      "cell_type": "markdown",
      "metadata": {
        "id": "AMyIudLMe2LS"
      },
      "source": [
        "- Methods to reduce sequential computaiton\n",
        "    1. the Extented Neural GPU\n",
        "    2. ByteNet\n",
        "    3. ConvS2S\n",
        "- In these models, the number of operations required to relate signals from two arbitary input or output positions, linearly for ConvS2S and logarithmically for ByteNet\n",
        "- This makes it more difficult to learn dependencies between distant positions\n",
        "\n",
        "- In the Transformer this is reduced to a constant number of operations, albeit at the cost of reduced effective resolution due to averaging attention-weighted positions, an effect we counteract with Multi-Head Attention"
      ]
    },
    {
      "cell_type": "markdown",
      "metadata": {
        "id": "n4DpruqReeY5"
      },
      "source": [
        "# Model Architecture"
      ]
    },
    {
      "cell_type": "code",
      "metadata": {
        "id": "DcAZM1_JeiDF"
      },
      "source": [
        "class EncoderDecoder(nn.Module):\n",
        "    '''\n",
        "    A standard Encoder-Decoder architecuture. Base for this and many other models.\n",
        "    '''\n",
        "    def __init__(self, encoder, decoder, src_embed, tgt_embed, generator):\n",
        "        super(EncoderDecoder, self).__init__()\n",
        "        self.encoder = encoder\n",
        "        self.decoder = decoder\n",
        "        self.src_embed = src_embed\n",
        "        self.tgt_embed = tgt_embed\n",
        "        self.generator = generator\n",
        "\n",
        "    def forward(self, src, tgt, src_mask, tgt_mask):\n",
        "        \"Take in and process masked src and target sequences.\"\n",
        "        return self.decode(self.encode(src, src_mask), src_mask, tgt, tgt_mask)\n",
        "\n",
        "    def encode(self, src, src_mask):\n",
        "        return self.encoder(self.src_embed(src), src_mask)\n",
        "    \n",
        "    def decode(self, memory, src_mask, tgt, tgt_mask):\n",
        "        return self.decoder(self.tgt_embed(tgt), memory, src_mask, tgt_mask)"
      ],
      "execution_count": 2,
      "outputs": []
    },
    {
      "cell_type": "code",
      "metadata": {
        "id": "RvIS6sxDei4e"
      },
      "source": [
        "class Generator(nn.Module):\n",
        "    \"Define standard linear + softmax generation step.\"\n",
        "    def __init__(self, d_model, vocab):\n",
        "        super(Generator, self).__init__()\n",
        "        self.proj = nn.Linear(d_model, vocab)\n",
        "    \n",
        "    def forward(self, x):\n",
        "        return F.log_softmax(self.proj(x), dim=-1)\n",
        "    "
      ],
      "execution_count": 3,
      "outputs": []
    },
    {
      "cell_type": "markdown",
      "metadata": {
        "id": "r2brm2qSemgr"
      },
      "source": [
        "# Encoder and Decoder Stacks"
      ]
    },
    {
      "cell_type": "markdown",
      "metadata": {
        "id": "N7s9r6iZem_G"
      },
      "source": [
        "## Encoder\n",
        "The encoder is composed of a stack of $N = 6$ identical layers."
      ]
    },
    {
      "cell_type": "code",
      "metadata": {
        "id": "xz1G3ZJKiQlX"
      },
      "source": [
        "def clones(module, N):\n",
        "    \"Produce N identical layers.\"\n",
        "    return nn.ModuleList([copy.deepcopy(module) for _ in range(N)])"
      ],
      "execution_count": 4,
      "outputs": []
    },
    {
      "cell_type": "code",
      "metadata": {
        "id": "DPBznBOXicP5"
      },
      "source": [
        "class Encoder(nn.Module):\n",
        "    \"Core encoder is a stack of N layers\"\n",
        "    def __init__(self, layer, N):\n",
        "        super(Encoder, self).__init__()\n",
        "        self.layers = clones(layer, N)\n",
        "        self.norm = LayerNorm(layer.size)\n",
        "    \n",
        "    def forward(self, x, mask):\n",
        "        \"Pass the input (and mask) through each layer in turn.\"\n",
        "        for layer in self.layers:\n",
        "            x = layer(x, mask)\n",
        "        return self.norm(x)"
      ],
      "execution_count": 5,
      "outputs": []
    },
    {
      "cell_type": "markdown",
      "metadata": {
        "id": "gPaL4ZMYi07L"
      },
      "source": [
        "A residual connection around each of the two sub-layers, followed by layer normalization."
      ]
    },
    {
      "cell_type": "code",
      "metadata": {
        "id": "y2H8sto3jCTn"
      },
      "source": [
        "class LayerNorm(nn.Module):\n",
        "    \"Construct a layernorm module\"\n",
        "    def __init__(self, features, eps=1e-6):\n",
        "        super(LayerNorm, self).__init__()\n",
        "        self.a_2 = nn.Parameter(torch.ones(features))\n",
        "        self.b_2 = nn.Parameter(torch.zeros(features))\n",
        "        self.eps = eps\n",
        "    \n",
        "    def forward(self, x):\n",
        "        # x = [Batch, Seq_len, Embeding 512]\n",
        "        # self.a_2 * (x - mean) [Batch, Seq, Embedding]\n",
        "        # self.a2 [512]\n",
        "\n",
        "        mean = x.mean(-1, keepdim=True) # [B, S, 1]\n",
        "        std = x.std(-1, keepdim=True)   # [B, S, 1]\n",
        "        return self.a_2 * (x - mean) / (std + self.eps) + self.b_2\n"
      ],
      "execution_count": 6,
      "outputs": []
    },
    {
      "cell_type": "markdown",
      "metadata": {
        "id": "GXBR8hELuqqk"
      },
      "source": [
        "- The output of each sub-layer is $LayerNorm(x + Sublayer(z))$. \n",
        "- We apply dropout to the output of each sub-layer, before it is added to the sub-layer input and normalized.\n",
        "- To faciliatate these residual connetctions, all sub-layers in the model, as well as the embedding layers, produce outputs of dimension $d_{model} = 512$"
      ]
    },
    {
      "cell_type": "markdown",
      "metadata": {
        "id": "206Mr77lsAT2"
      },
      "source": [
        "> **[Note] Batch Normalization & Layer Normalization**\n",
        "- BN: Normalizing each feature\n",
        "- LN : Normalizing each input data\n",
        "![img](https://yonghyuc.files.wordpress.com/2020/03/bn_vs_ln.png)\n",
        "- [Ref 1](https://yonghyuc.wordpress.com/2020/03/04/batch-norm-vs-layer-norm/)\n",
        "- [Ref 2](http://igl-blog.com/tag/normalization/)"
      ]
    },
    {
      "cell_type": "markdown",
      "metadata": {
        "id": "ehYqUMhCxrEV"
      },
      "source": [
        "- For code simplicity, we emply $x + Sublayer(LayerNorm(x))$ instead of $LayerNorm(x + Sublayer(x))$ "
      ]
    },
    {
      "cell_type": "code",
      "metadata": {
        "id": "3Y0AJvI9tXau"
      },
      "source": [
        "class SublayerConnection(nn.Module):\n",
        "    '''\n",
        "    A residual connection followed by a layer norm.\n",
        "    Note for code simplicity the norm is first as opposed to last.\n",
        "    '''\n",
        "    def __init__(self, size, dropout):\n",
        "        super(SublayerConnection, self).__init__()\n",
        "        self.norm = LayerNorm(size)\n",
        "        self.dropout = nn.Dropout(dropout)\n",
        "    \n",
        "    def forward(self, x, sublayer):\n",
        "        \"Apply residual connection to any sublayer with the same size.\"\n",
        "        return x + self.dropout(sublayer(self.norm(x)))        \n"
      ],
      "execution_count": 7,
      "outputs": []
    },
    {
      "cell_type": "markdown",
      "metadata": {
        "id": "TcAwOpywzjRs"
      },
      "source": [
        "Each Layer has two sub-layers.\n",
        "1. multi-head self-attention mechanism\n",
        "2. simple, position-wise fully connected feed- forward network."
      ]
    },
    {
      "cell_type": "code",
      "metadata": {
        "id": "RZO2dBNi0ifr"
      },
      "source": [
        "class EncoderLayer(nn.Module):\n",
        "    \"Encoder is made up of self-attn and feed forward (defined below)\"\n",
        "    def __init__(self, size, self_attn, feed_forward, dropout):\n",
        "        super(EncoderLayer, self).__init__()\n",
        "        self.self_attn = self_attn\n",
        "        self.feed_forward = feed_forward\n",
        "        self.sublayer = clones(SublayerConnection(size, dropout), 2)\n",
        "        self.size = size\n",
        "    \n",
        "    def forward(self, x, mask):\n",
        "        \"Follow Figure 1 (left) for connections.\"\n",
        "        x = self.sublayer[0](x, lambda x: self.self_attn(x, x, x, mask))\n",
        "        return self.sublayer[1](x, self.feed_forward)"
      ],
      "execution_count": 8,
      "outputs": []
    },
    {
      "cell_type": "markdown",
      "metadata": {
        "id": "5NM97rJp3FfR"
      },
      "source": [
        "## Decoder\n",
        "- The decoder is also composed of stack of $N=6$ identical layers."
      ]
    },
    {
      "cell_type": "code",
      "metadata": {
        "id": "Hr7ineP-3PEQ"
      },
      "source": [
        "class Decoder(nn.Module):\n",
        "    \"Generic N layer decoder with masking.\"\n",
        "    def __init__(self, layer, N):\n",
        "        super(Decoder, self).__init__()\n",
        "        self.layers = clones(layer, N)\n",
        "        self.norm = LayerNorm(layer.size)\n",
        "    \n",
        "    def forward(self, x, memory, src_mask, tgt_mask):\n",
        "        for layer in self.layers:\n",
        "            x = layer(x, memory, src_mask, tgt_mask)\n",
        "        return self.norm(x)"
      ],
      "execution_count": 9,
      "outputs": []
    },
    {
      "cell_type": "markdown",
      "metadata": {
        "id": "qs4AEGNw6iIN"
      },
      "source": [
        "In addition to the two sub-layers in each encoder layer, the decoder inserts a third sub-layer, which performs multi-head attention over the output of the encoder stack. Similar to the encoder, we employ residual connections around each of the sub-layer, followed by layer normalization."
      ]
    },
    {
      "cell_type": "code",
      "metadata": {
        "id": "qsrRdBe-69YN"
      },
      "source": [
        "class DecoderLayer(nn.Module):\n",
        "    \"Decoder is made of self-attn, src-attn, and feed forward (defined below)\"\n",
        "    def __init__(self, size, self_attn, src_attn, feed_forward, dropout):\n",
        "        super(DecoderLayer, self).__init__()\n",
        "        self.size = size\n",
        "        self.self_attn = self_attn\n",
        "        self.src_attn = src_attn\n",
        "        self.feed_forward = feed_forward\n",
        "        self.sublayer = clones(SublayerConnection(size, dropout), 3)\n",
        "    \n",
        "    def forward(self, x, memory, src_mask, tgt_mask):\n",
        "        \"Follow Figure 1 (right) for connections.\"\n",
        "        m = memory\n",
        "        x = self.sublayer[0](x, lambda x: self.self_attn(x, x, x, tgt_mask))\n",
        "        x = self.sublayer[1](x, lambda x: self.src_attn(x, m, m, src_mask))\n",
        "        return self.sublayer[2](x, self.feed_forward)"
      ],
      "execution_count": 10,
      "outputs": []
    },
    {
      "cell_type": "markdown",
      "metadata": {
        "id": "lqgUzwSQY_t_"
      },
      "source": [
        "To prevent positions from attending to subsequent positions, the self-attention sub-layer in the decoder stack is modified.\n",
        "This masking, combined with fact that the output embeddings are offset by one position, ensures that the predictions for position $i$ can depend only on the known outputs at positions less than $i$. "
      ]
    },
    {
      "cell_type": "code",
      "metadata": {
        "id": "_KTNPfzhaItW"
      },
      "source": [
        "def subsequent_mask(size):\n",
        "    \"Mask out subsequent positions.\"\n",
        "    attn_shape = (1, size, size)\n",
        "    # Numpy to Torch: triu\n",
        "    subsequent_mask = torch.triu(torch.ones(attn_shape), diagonal=1).int()\n",
        "    return subsequent_mask == 0"
      ],
      "execution_count": 11,
      "outputs": []
    },
    {
      "cell_type": "code",
      "metadata": {
        "colab": {
          "base_uri": "https://localhost:8080/",
          "height": 350
        },
        "id": "FMppSwN4cCnq",
        "outputId": "f38c6fd5-12e6-49f1-fd93-b00fbe7d2c7a"
      },
      "source": [
        "plt.figure(figsize=(5,5))\n",
        "plt.imshow(subsequent_mask(20)[0])"
      ],
      "execution_count": 12,
      "outputs": [
        {
          "output_type": "execute_result",
          "data": {
            "text/plain": [
              "<matplotlib.image.AxesImage at 0x7fdf54137a10>"
            ]
          },
          "metadata": {
            "tags": []
          },
          "execution_count": 12
        },
        {
          "output_type": "display_data",
          "data": {
            "image/png": "[encoded data removed]",
            "text/plain": [
              "<Figure size 360x360 with 1 Axes>"
            ]
          },
          "metadata": {
            "tags": [],
            "needs_background": "light"
          }
        }
      ]
    },
    {
      "cell_type": "markdown",
      "metadata": {
        "id": "FKKjHO2icJ5y"
      },
      "source": [
        "# Attention"
      ]
    },
    {
      "cell_type": "code",
      "metadata": {
        "id": "pgKMvrApcjSL"
      },
      "source": [
        "def attention(query, key, value, mask=None, dropout=None):\n",
        "    \"Compute 'Scaled Dot Product Attention'\"\n",
        "    d_k = query.size(-1)\n",
        "    # [B, S, E] @ [B, E, S] = [B, S, S]\n",
        "    scores = torch.matmul(query, key.transpose(-2, -1)) \\\n",
        "             / math.sqrt(d_k)\n",
        "    if mask is not None:\n",
        "        scores = scores.masked_fill(mask == 0, -1e9)\n",
        "    p_attn = F.softmax(scores, dim = -1)\n",
        "    if dropout is not None:\n",
        "        p_attn = dropout(p_attn)\n",
        "    # [B, S, S] @ [B, S, E] = [B, S, E]\n",
        "    return torch.matmul(p_attn, value), p_attn"
      ],
      "execution_count": 13,
      "outputs": []
    },
    {
      "cell_type": "markdown",
      "metadata": {
        "id": "4d_FJNPQdW3j"
      },
      "source": [
        "**Additive attention vs. Scaled Dot-product attention**\n",
        "- Additive attention([cite](https://arxiv.org/abs/1409.0473)) computes the compatibility function using a feed-forward network with a single hidden layer.\n",
        "- While both of them are simillar in theoretical complexity, dot-product attention is **much faster and more space-efficient in practice**, since it can be implemented **using highly optimized matrix multiplication code**\n",
        "- While for small values of $d_k$ the two mechanisms perform simlarly, additive attention outperforms dot product attention without scaling for larger values of $d_k$([cite](https://arxiv.org/abs/1703.03906)).\n",
        "- We suspect that for large values of $d_k$, the dot products grow large in magnitude, pushing the softmax function into regions where it has extremely small gradients(To illustrate why the dot products get large, assume that the componetns of $q$ and $k$ are independent random variables with mean 0 and variance 1. Then their dot product, $q\\cdot k = \\sum_{i=1}^{d_k}q_{i}k_{i}$, has mean 0 and variance $d_k$.). To counteract this effect, we scale the dot products by $\\frac{1}{\\sqrt{d_k}}$.\n",
        "\n",
        "  \n",
        "![img](http://nlp.seas.harvard.edu/images/the-annotated-transformer_38_0.png)"
      ]
    },
    {
      "cell_type": "code",
      "metadata": {
        "id": "gS5BJnKom9Cy"
      },
      "source": [
        "class MultiHeadedAttention(nn.Module):\n",
        "    def __init__(self, h, d_model, dropout=0.1):\n",
        "        \"Take in model size and number of heads.\"\n",
        "        super(MultiHeadedAttention, self).__init__()\n",
        "        assert d_model % h == 0\n",
        "        # We assume d_v always equales d_k\n",
        "        self.d_k = d_model //h\n",
        "        self.h = h\n",
        "        self.linears = clones(nn.Linear(d_model, d_model), 4)\n",
        "        self.attn = None\n",
        "        self.dropout = nn.Dropout(p=dropout)\n",
        "    \n",
        "    def forward(self, query, key, value, mask=None):\n",
        "        \"Implements Figure 2\"\n",
        "        if mask is not None:\n",
        "            # Same maske applied to all h heads.\n",
        "            mask = mask.unsqueeze(1)\n",
        "        nbatches = query.size(0)\n",
        "\n",
        "        # 1) Do all the linear projections in batch from d_model => h x d_k\n",
        "        query, key, value = \\\n",
        "        [l(x).view(nbatches, -1, self.h, self.d_k).transpose(1, 2)\n",
        "         for l, x in zip(self.linears, (query, key, value))]\n",
        "        \n",
        "        # 2) Apply attention on all the projected vectors in batch.\n",
        "        x, self.attn = attention(query, key, value, mask=mask,\n",
        "                                 dropout=self.dropout)\n",
        "        \n",
        "        # 3) \"Concat\" using a view and apply a final linear.\n",
        "        x = x.transpose(1, 2).contiguous() \\\n",
        "             .view(nbatches, -1, self.h * self.d_k)\n",
        "        return self.linears[-1](x)"
      ],
      "execution_count": 14,
      "outputs": []
    },
    {
      "cell_type": "markdown",
      "metadata": {
        "id": "Jx3BcJ-Lc1c1"
      },
      "source": [
        "## Applications of Attention in our Model\n",
        "**The Transformer uses multi-head attention in 3 different ways:**  \n",
        "1. \"Encoder-Decoder Attention\"\n",
        "    - the queries : from the previous decoder layer\n",
        "    - the memory keys and values : from the output of the encoder\n",
        "    - It allows every position in the decoder to attend over all positions in the input sequence.\n",
        "    - This mimics the typical encoder-decoder attention mechanisms in seq2seq models such as [(cite)](https://arxiv.org/abs/1609.08144).\n",
        "\n",
        "2. \"Self-Attention in the Encoder\"\n",
        "    - all of the keys, values and queries come from the same place(the output of the previous layer in the encoder.)\n",
        "    - Each position in the encoder can attend to all position in the previous layer of the encoder.\n",
        "\n",
        "3. \"Self-Attention in the Decoder\"\n",
        "    - Similar to the case of the Encoder, ecah position in the decoder allowed to attend to all positions in the decoder up to and including that position.\n",
        "    - To preserve the auto-regressive property, It is need to prevent leftward infomation flow in the decoder.\n",
        "    - By masking out (setting to -inf) all values in the input of the softmax which correspond to illegal connections, this inside of scaled dot-product attention is implemented"
      ]
    },
    {
      "cell_type": "markdown",
      "metadata": {
        "id": "m4DpA_tvgmMX"
      },
      "source": [
        "# Position-wise Feed-Foward Networks"
      ]
    },
    {
      "cell_type": "markdown",
      "metadata": {
        "id": "vZvdfgrdhac1"
      },
      "source": [
        "Each of the layers in our encoder and decoder contatins a FFN, which is applied to each popsition separately and identically. This consists of two linear transformations with a ReLU activation in between.  \n",
        "$$ FFN(x) = max(0, xW_1 + b_1 )W_2 + b_2$$  \n",
        "\n",
        "While the linear transormations are the same across different positions, they use different parameters from layer to layer.\n",
        "Another way of describing this is as two convolutions with kernel size 1. The dimensionality of input and output id $d_model = 512$, and the inner-layer has dimensionaltiy $d_{ff} = 2048$.\n"
      ]
    },
    {
      "cell_type": "code",
      "metadata": {
        "id": "ZJvRTdIAiP2k"
      },
      "source": [
        "class PositionwiseFeedForward(nn.Module):\n",
        "    \"Implements FFN equation.\"\n",
        "    def __init__(self, d_model, d_ff, dropout=0.1):\n",
        "        super(PositionwiseFeedForward, self).__init__()\n",
        "        self.w_1 = nn.Linear(d_model, d_ff)\n",
        "        self.w_2 = nn.Linear(d_ff, d_model)\n",
        "        self.dropout = nn.Dropout(dropout)\n",
        "    \n",
        "    def forward(self, x):\n",
        "        return self.w_2(self.dropout(F.relu(self.w_1(x))))"
      ],
      "execution_count": 15,
      "outputs": []
    },
    {
      "cell_type": "markdown",
      "metadata": {
        "id": "vWonblXKinWE"
      },
      "source": [
        "# Embeddings and Softmax"
      ]
    },
    {
      "cell_type": "markdown",
      "metadata": {
        "id": "7ArpY_dzirE9"
      },
      "source": [
        "Similarly to other sequent transduction models, we use learned embeddings to convert the input tokens and output tokens to vectores of dimension $d_{model}$. We also use the usual learned linear transformation and softmax function to convert the decoder output to predicted next-token probabilities. In our model, we share the same weight matrix between the two embedding layers and the pre-softmax linear transformation, similar to [(cite)](https://arxiv.org/abs/1608.05859). In the embedding layers, we multiply those weights by $\\sqrt{d_{model}}$.\n",
        "  \n",
        "**[Note] The reason for scaling the embedding weights by $\\sqrt{d_{model}}$**\n",
        "- It is not mentioned on the paper.\n",
        "- [This post](https://towardsdatascience.com/how-to-code-the-transformer-in-pytorch-24db27c8f9ec) says To make the positional encoding relatively smaller."
      ]
    },
    {
      "cell_type": "code",
      "metadata": {
        "id": "GFBzv6WmmZ2j"
      },
      "source": [
        "class Embeddings(nn.Module):\n",
        "    def __init__(self, d_model, vocab):\n",
        "        super(Embeddings, self).__init__()\n",
        "        self.lut = nn.Embedding(vocab, d_model)\n",
        "        self.d_model = d_model\n",
        "    def forward(self, x):\n",
        "        return self.lut(x) * math.sqrt(self.d_model)"
      ],
      "execution_count": 16,
      "outputs": []
    },
    {
      "cell_type": "markdown",
      "metadata": {
        "id": "Qak2QnyKoMJz"
      },
      "source": [
        "# Positional Encoding"
      ]
    },
    {
      "cell_type": "markdown",
      "metadata": {
        "id": "JhBZ8lmCoOKy"
      },
      "source": [
        "- Since Transformer contains no recurrence and no covolution, in order for the model to make use of the order of the sequence, we must inject information about the relative or absolute position of the tokens in the sequence.\n",
        "- Dimention : the same dimension to $d_model$ as the embeddings\n",
        "- Summed to the embeddings\n",
        "- Choices: Leaned vs Fixed [(cite)](https://arxiv.org/pdf/1705.03122.pdf)\n",
        "\n",
        "- Sine & Cosine functions of different frequencies:\n",
        "    - $PE_{(pos, 2i)} = sin(pos/10000^{2i/d_{model}})$\n",
        "    - $PE_{(pos, 2i + 1)} = cos(pos/10000^{2i/d_{model}})$\n",
        "    - where $pos$ is the position and $i$ is the dimension\n",
        "    - Each dimension of the positional encoding corresponds to a sinusoid.\n",
        "    - The wavelengths from a geometric progression from $2\\pi$ to $10000 \\cdot 2 \\pi$\n",
        "    - We hypothesized it would allow the model to easily learn to attend by relative positions, since for any fixed offset $k$, $PE_{pos + k}$ can be represented as a linear function of $PE_{pos}$.\n",
        "\n",
        "- Dropout to the sums of the embeddings and the postional encodings in both the encoder and decoder stacks. For the base model, $P_{drop} = 0.1$.\n",
        "\n",
        "\n",
        "**[Note] Detailed Discription**\n",
        "- [Positional Encoding in NLP](https://inmoonlight.github.io/2020/01/26/Positional-Encoding/)"
      ]
    },
    {
      "cell_type": "code",
      "metadata": {
        "id": "BiCbEYIZsBu5"
      },
      "source": [
        "class PositionalEncoding(nn.Module):\n",
        "    \"Implement the PE function.\"\n",
        "    def __init__(self, d_model, dropout, max_len=5000):\n",
        "        super(PositionalEncoding, self).__init__()\n",
        "        self.dropout = nn.Dropout(p=dropout)\n",
        "\n",
        "        # Compute the positional encodings once in log space.\n",
        "        pe = torch.zeros(max_len, d_model)\n",
        "        position = torch.arange(0, max_len).unsqueeze(1)\n",
        "        div_term = torch.exp(torch.arange(0, d_model, 2) *\n",
        "                             -(math.log(10000.0) / d_model))\n",
        "        pe[:, 0::2] = torch.sin(position * div_term)\n",
        "        pe[:, 1::2] = torch.cos(position * div_term)\n",
        "        pe = pe.unsqueeze(0)\n",
        "        self.register_buffer('pe', pe) # static value (Will not updated by optimizer)\n",
        "        \n",
        "    def forward(self, x):\n",
        "        x = x + Variable(self.pe[:, :x.size(1)],\n",
        "                        requires_grad=False)\n",
        "        return self.dropout(x)\n"
      ],
      "execution_count": 17,
      "outputs": []
    },
    {
      "cell_type": "markdown",
      "metadata": {
        "id": "wLD3tV1760DP"
      },
      "source": [
        "> Below the positional encoding will add in a sine wave based on position. The frequency and offset of the wave is different for each dimension."
      ]
    },
    {
      "cell_type": "code",
      "metadata": {
        "colab": {
          "base_uri": "https://localhost:8080/",
          "height": 253
        },
        "id": "KOJq1nes7DKV",
        "outputId": "5ae312a2-657d-401f-9444-bb3c14165b6f"
      },
      "source": [
        "plt.figure(figsize=(15, 5))\n",
        "pe = PositionalEncoding(20, 0)\n",
        "y = pe.forward(Variable(torch.zeros(1, 100, 20)))\n",
        "plt.plot(np.arange(100), y[0, :, 4:8].data.numpy())\n",
        "plt.legend([\"dim %d\"%p for p in [4,5,6,7]])"
      ],
      "execution_count": 18,
      "outputs": [
        {
          "output_type": "execute_result",
          "data": {
            "text/plain": [
              "<matplotlib.legend.Legend at 0x7fdf52b83b90>"
            ]
          },
          "metadata": {
            "tags": []
          },
          "execution_count": 18
        },
        {
          "output_type": "display_data",
          "data": {
            "image/png": "[encoded data removed]",
            "text/plain": [
              "<Figure size 1080x360 with 1 Axes>"
            ]
          },
          "metadata": {
            "tags": [],
            "needs_background": "light"
          }
        }
      ]
    },
    {
      "cell_type": "markdown",
      "metadata": {
        "id": "9GRtOZ3-7KJW"
      },
      "source": [
        "**Learned Positional Embeddings vs. Freezed Positional Embeddings**\n",
        "- Nearly identical results\n",
        "- We chose the sinusoidal version because it may allow the model to extrapolate to sequence length longer than ones encounterd during training."
      ]
    },
    {
      "cell_type": "markdown",
      "metadata": {
        "id": "biXbCLyV8Dag"
      },
      "source": [
        "# Full Model"
      ]
    },
    {
      "cell_type": "code",
      "metadata": {
        "id": "SvAqhrt88Hkn"
      },
      "source": [
        "def make_model(src_vocab, tgt_vocab, N=6, d_model=512, d_ff=2048, h=8, dropout=0.1):\n",
        "    \"Helper: Construct a model from hyperparameters.\"\n",
        "    c = copy.deepcopy\n",
        "    attn = MultiHeadedAttention(h, d_model)\n",
        "    ff = PositionwiseFeedForward(d_model, d_ff, dropout)\n",
        "    position = PositionalEncoding(d_model, dropout)\n",
        "    model = EncoderDecoder(\n",
        "        Encoder(EncoderLayer(d_model, c(attn), c(ff), dropout), N),\n",
        "        Decoder(DecoderLayer(d_model, c(attn), c(attn), c(ff), dropout), N),\n",
        "        nn.Sequential(Embeddings(d_model, src_vocab), c(position)),\n",
        "        nn.Sequential(Embeddings(d_model, tgt_vocab), c(position)),\n",
        "        Generator(d_model, tgt_vocab))\n",
        "    \n",
        "    # This was important from their code.\n",
        "    # Initialize parameters with Glorot / fan_avg.\n",
        "\n",
        "    for p in model.parameters():\n",
        "        if p.dim() > 1:\n",
        "            nn.init.xavier_uniform_(p) # fixed\n",
        "    return model"
      ],
      "execution_count": 19,
      "outputs": []
    },
    {
      "cell_type": "code",
      "metadata": {
        "id": "gXBs24uq8e9g"
      },
      "source": [
        "# Small example model.\n",
        "tmp_model = make_model(10, 10, 2)"
      ],
      "execution_count": 20,
      "outputs": []
    },
    {
      "cell_type": "markdown",
      "metadata": {
        "id": "7du555m79Z-U"
      },
      "source": [
        "# Training"
      ]
    },
    {
      "cell_type": "markdown",
      "metadata": {
        "id": "UHeAmvpV910V"
      },
      "source": [
        "> We stop for a quick interlude to introduce some of the tools needed to train a standard encoder decoder model. First we define a batch object that holds the src and target sentences for training, as well as constructing the masks."
      ]
    },
    {
      "cell_type": "markdown",
      "metadata": {
        "id": "2mh1vuqW920G"
      },
      "source": [
        "## Batches and Masking"
      ]
    },
    {
      "cell_type": "code",
      "metadata": {
        "id": "TeWL5_QZ94PG"
      },
      "source": [
        "class Batch:\n",
        "    \"Object for holding a batch of data with mask during training.\"\n",
        "    def __init__(self, src, trg=None, pad=0):\n",
        "        self.src = src\n",
        "        self.src_mask = (src != pad).unsqueeze(-2)\n",
        "        if trg is not None:\n",
        "            self.trg = trg[:, :-1] # trg = <s> Hi My Name ...  , trg_y = Hi My Name is\n",
        "            self.trg_y = trg[:, 1:]\n",
        "            self.trg_mask = \\\n",
        "                self.make_std_mask(self.trg, pad)\n",
        "            self.ntokens = (self.trg_y != pad).data.sum()\n",
        "    \n",
        "    @staticmethod\n",
        "    def make_std_mask(tgt, pad):\n",
        "        \"Create a mask to hide padding and future words.\"\n",
        "        tgt_mask = (tgt != pad).unsqueeze(-2)\n",
        "        tgt_mask = tgt_mask & Variable(\n",
        "            subsequent_mask(tgt.size(-1)).type_as(tgt_mask.data))\n",
        "        return tgt_mask"
      ],
      "execution_count": 21,
      "outputs": []
    },
    {
      "cell_type": "markdown",
      "metadata": {
        "id": "t7F2mrgiCulm"
      },
      "source": [
        "> Next we create a generic training and scoring function to keep track of loss. We pass in a generic loss compute function that also handles parameter updates."
      ]
    },
    {
      "cell_type": "markdown",
      "metadata": {
        "id": "yB_tZW66DCJM"
      },
      "source": [
        "# Training Loop"
      ]
    },
    {
      "cell_type": "code",
      "metadata": {
        "id": "YKE0OrEKDETL"
      },
      "source": [
        "def run_epoch(data_iter, model, loss_compute, verbose_term=200):\n",
        "    \"Standard Training and Logging Function\"\n",
        "    start = time.time()\n",
        "    total_tokens = 0\n",
        "    total_loss = 0\n",
        "    tokens = 0\n",
        "    for i, batch in enumerate(data_iter):\n",
        "        out = model.forward(batch.src, batch.trg,\n",
        "                            batch.src_mask, batch.trg_mask)\n",
        "        loss = loss_compute(out, batch.trg_y, batch.ntokens)\n",
        "        total_loss += loss\n",
        "        total_tokens += batch.ntokens\n",
        "        tokens += batch.ntokens\n",
        "        if i % verbose_term == 1:\n",
        "            elapsed = time.time() - start\n",
        "            print(f\"Epoch Step: {i} Loss: {loss / batch.ntokens} \\\n",
        "             Tokens per Sec: {tokens / elapsed}\")\n",
        "            start = time.time()\n",
        "            tokens = 0\n",
        "    return total_loss / total_tokens"
      ],
      "execution_count": 211,
      "outputs": []
    },
    {
      "cell_type": "markdown",
      "metadata": {
        "id": "qHDD5oq8EoZ8"
      },
      "source": [
        "# Training Data and Batching"
      ]
    },
    {
      "cell_type": "markdown",
      "metadata": {
        "id": "hxc1Vc-8EraA"
      },
      "source": [
        "**Dataset**\n",
        "- the standard WMT 2014 English-German dataset\n",
        "    - 4.5M sentence pairs\n",
        "    - Sentencdes were encoded using Byte-Pair Encoding(BPE), which has a shared source-target vocabulary of about 37000 tokens.\n",
        "- the standard WMT 2014 English-French dataset\n",
        "    - 36M sentences\n",
        "    - 32000 word-piece vocabulary.\n",
        "\n",
        "Sentence pairs were batched together by approximate sequence length. Each training batch contained a set of sentence pairs containing approximately 25000 source tokens and 25000 target tokens.\n",
        "\n",
        "> We will use torch text for batching. This is discussed in more detail below. Here we create batches in a torchtext function that ensures our batch size padded to the maximum batchsize does not surpass a threshold (25000 if we have 8 gpus)."
      ]
    },
    {
      "cell_type": "code",
      "metadata": {
        "id": "8_1iN-fIGCNc"
      },
      "source": [
        "global max_src_in_batch, max_tgt_in_batch\n",
        "def batch_size_fn(new, count, sofar):\n",
        "    \"Keep augmenting batch and calculate total number of tokens + padding.\"\n",
        "    global max_src_in_batch, max_tgt_in_batch\n",
        "    if count == 1:\n",
        "        max_src_in_batch = 0\n",
        "        max_tgt_in_batch = 0\n",
        "    max_src_in_batch = max(max_src_in_batch, len(new.src))\n",
        "    max_tgt_in_batch = max(max_tgt_in_batch, len(new.trg) + 2)\n",
        "    src_elements = count * max_src_in_batch\n",
        "    tgt_elements = count * max_tgt_in_batch\n",
        "    return max(src_elements, tgt_elements)"
      ],
      "execution_count": 23,
      "outputs": []
    },
    {
      "cell_type": "markdown",
      "metadata": {
        "id": "TN3RZ9L4Ia-N"
      },
      "source": [
        "# Hardware and Schedule"
      ]
    },
    {
      "cell_type": "markdown",
      "metadata": {
        "id": "MM6Db1yrKlS5"
      },
      "source": [
        "- 8 P100 GPUs\n",
        "- Hyperparameters:\n",
        "    - Base models: Same thing described throughout the paper\n",
        "- Runtime(per training step):\n",
        "    - Base models: 0.4 sec\n",
        "    - Big models: 1.0 sec\n",
        "- Training time: \n",
        "    - Base models: 100,000 steps, 12 hours\n",
        "    - Big models: 300,000 steps, 3.5 days"
      ]
    },
    {
      "cell_type": "markdown",
      "metadata": {
        "id": "NIwnDhAvKgUm"
      },
      "source": [
        "# Optimizer"
      ]
    },
    {
      "cell_type": "markdown",
      "metadata": {
        "id": "tWAxah-mKiz6"
      },
      "source": [
        "- Adam with $\\beta_1 = 0.9, \\beta_2 = 0.98$ and $\\epsilon = 10^{-9}$.\n",
        "- Learning rate: varied over the course of training, according to the formula: $lrate = d_{model}^{-0.5}\\cdot \\textrm{min}(step\\_num^{-0.5}, step\\_num \\cdot warmup\\_steps^{-1.5})$\n",
        "- This is corresponds to increasing the learning rate linearly for the first $warmup\\_steps$ training steps, and decreasing it thereafter proportionally to the inverse squre root of the step number, We used $warmup\\_steps=4000$.\n",
        "> Note: This part is very important. Need to train with this setup of the model.\n",
        "\n"
      ]
    },
    {
      "cell_type": "code",
      "metadata": {
        "id": "UxKSwuoILcQb"
      },
      "source": [
        "class NoamOpt:\n",
        "    \"Optim warpper that implements rate.\"\n",
        "    def __init__(self, model_size, factor, warmup, optimizer, use_amp=False):\n",
        "        self.optimizer = optimizer\n",
        "        self._step = 0\n",
        "        self.warmup = warmup\n",
        "        self.factor = factor\n",
        "        self.model_size = model_size\n",
        "        self._rate = 0\n",
        "        self.use_amp = use_amp\n",
        "        self.scaler = torch.cuda.amp.GradScaler(enabled=self.use_amp)\n",
        "\n",
        "    def step(self):\n",
        "        \"Update parameters and rate\"\n",
        "        self._step += 1\n",
        "        rate = self.rate()\n",
        "        for p in self.optimizer.param_groups:\n",
        "            p['lr'] = rate\n",
        "        self._rate = rate\n",
        "        self.scaler.step(self.optimizer)\n",
        "        self.scaler.update()\n",
        "        # self.optimizer.step()\n",
        "    \n",
        "    def rate(self, step = None):\n",
        "        \"Implement 'lrate' above\"\n",
        "        if step is None:\n",
        "            step = self._step\n",
        "        return self.factor * \\\n",
        "              (self.model_size ** (-0.5) * \\\n",
        "               min(step ** (-0.5), step * self.warmup ** (-1.5)))\n",
        "\n",
        "def get_std_opt(model):\n",
        "    return NoamOpt(model.src_embed[0].d_model, 2, 4000,\n",
        "                   torch.optim.Adam(model.parameters(), lr=0, betas=(0.9, 0.98), eps=1e-9))"
      ],
      "execution_count": 79,
      "outputs": []
    },
    {
      "cell_type": "markdown",
      "metadata": {
        "id": "TpVvjMm9PPJu"
      },
      "source": [
        "> Example of the curves of this model for different model sizes and for optimization hyperparameters.\n",
        "\n"
      ]
    },
    {
      "cell_type": "code",
      "metadata": {
        "colab": {
          "base_uri": "https://localhost:8080/",
          "height": 295
        },
        "id": "2HIkBDe0PT50",
        "outputId": "605c2c85-9ae3-4b2b-8c6b-164cef665146"
      },
      "source": [
        "# Three settings of the lrate hyperparameters.\n",
        "opts = [NoamOpt(512, 1, 4000, None),\n",
        "        NoamOpt(512, 1, 8000, None),\n",
        "        NoamOpt(256, 1, 4000, None),]\n",
        "plt.plot(np.arange(1, 20000), [[opt.rate(i) for opt in opts] for i in range(1, 20000)])\n",
        "plt.legend([\"512:4000\", \"512:8000\", \"256:4000\"])\n"
      ],
      "execution_count": 80,
      "outputs": [
        {
          "output_type": "execute_result",
          "data": {
            "text/plain": [
              "<matplotlib.legend.Legend at 0x7fdf48d527d0>"
            ]
          },
          "metadata": {
            "tags": []
          },
          "execution_count": 80
        },
        {
          "output_type": "display_data",
          "data": {
            "image/png": "[encoded data removed]",
            "text/plain": [
              "<Figure size 432x288 with 1 Axes>"
            ]
          },
          "metadata": {
            "tags": [],
            "needs_background": "light"
          }
        }
      ]
    },
    {
      "cell_type": "markdown",
      "metadata": {
        "id": "YgXpp2vSPUH5"
      },
      "source": [
        "# Regularization"
      ]
    },
    {
      "cell_type": "markdown",
      "metadata": {
        "id": "qPyCFAey1Xw8"
      },
      "source": [
        "## Label Smoothing\n"
      ]
    },
    {
      "cell_type": "markdown",
      "metadata": {
        "id": "72EVCnoN1anP"
      },
      "source": [
        "- During training, we employed label smoothing of value $\\epsilon_{ls} = 0.1$ [(cite](https://arxiv.org/abs/1512.00567). This hurts perpelexity, as the model learns to be more unsure, but improves accuracy and BLEU score.\n",
        "> We implement label smoothing using the KL div loss. Instead of using a one-hot target distribution, we create a distribution that has **confidence** of the correct word and the rest of the **smoothing** mass distributed throughout the vocabulary."
      ]
    },
    {
      "cell_type": "code",
      "metadata": {
        "id": "pmeWN66AP0N-"
      },
      "source": [
        "class LabelSmoothing(nn.Module):\n",
        "    \"Implement label smoothing.\"\n",
        "    def __init__(self, size, padding_idx, smoothing=0.0):\n",
        "        super(LabelSmoothing, self).__init__()\n",
        "        self.criterion = nn.KLDivLoss(reduction='sum')\n",
        "        self.padding_idx = padding_idx\n",
        "        self.confidence = 1.0 - smoothing\n",
        "        self.smoothing = smoothing\n",
        "        self.size = size\n",
        "        self.true_dist = None\n",
        "    \n",
        "    def forward(self, x, target):\n",
        "        # print(x.size(1), self.size)\n",
        "        assert x.size(1) == self.size\n",
        "        true_dist = x.data.clone()\n",
        "        true_dist.fill_(self.smoothing / (self.size - 2))\n",
        "        true_dist.scatter_(1, target.data.unsqueeze(1), self.confidence)\n",
        "        true_dist[:, self.padding_idx] = 0\n",
        "        mask = torch.nonzero(target.data == self.padding_idx)\n",
        "        if mask.dim() > 0:\n",
        "            true_dist.index_fill_(0, mask.squeeze(), 0.0)\n",
        "        self.true_dist = true_dist\n",
        "        return self.criterion(x, Variable(true_dist, requires_grad=False))"
      ],
      "execution_count": 81,
      "outputs": []
    },
    {
      "cell_type": "code",
      "metadata": {
        "id": "3NdA1PkTbwTt"
      },
      "source": [
        "crit = LabelSmoothing(5, 0, 0.4)\n",
        "predict = torch.FloatTensor([[0, 0.2, 0.7, 0.1, 0],\n",
        "                             [0, 0.2, 0.7, 0.1, 0], \n",
        "                             [0, 0.2, 0.7, 0.1, 0]])\n",
        "\n",
        "v = crit(Variable(predict.log()),\n",
        "         Variable(torch.LongTensor([2, 1, 0])))\n",
        "\n",
        "# Show the target distributions"
      ],
      "execution_count": 82,
      "outputs": []
    },
    {
      "cell_type": "markdown",
      "metadata": {
        "id": "-0BoRZXosslV"
      },
      "source": [
        "### forward method detail"
      ]
    },
    {
      "cell_type": "code",
      "metadata": {
        "colab": {
          "base_uri": "https://localhost:8080/",
          "height": 285
        },
        "id": "Ldy9HzuIkAQw",
        "outputId": "60ef0c81-5f44-4436-ee1c-2a09092af38c"
      },
      "source": [
        "plt.imshow(Variable(predict.log()))"
      ],
      "execution_count": 83,
      "outputs": [
        {
          "output_type": "execute_result",
          "data": {
            "text/plain": [
              "<matplotlib.image.AxesImage at 0x7fdf4888dc10>"
            ]
          },
          "metadata": {
            "tags": []
          },
          "execution_count": 83
        },
        {
          "output_type": "display_data",
          "data": {
            "image/png": "[encoded data removed]",
            "text/plain": [
              "<Figure size 432x288 with 1 Axes>"
            ]
          },
          "metadata": {
            "tags": [],
            "needs_background": "light"
          }
        }
      ]
    },
    {
      "cell_type": "code",
      "metadata": {
        "colab": {
          "base_uri": "https://localhost:8080/"
        },
        "id": "xWlCzFTgkSsj",
        "outputId": "94bfbe66-434e-4b06-b72e-d0b8dd18f5d5"
      },
      "source": [
        "target = Variable(torch.LongTensor([2, 1, 0]))\n",
        "target"
      ],
      "execution_count": 84,
      "outputs": [
        {
          "output_type": "execute_result",
          "data": {
            "text/plain": [
              "tensor([2, 1, 0])"
            ]
          },
          "metadata": {
            "tags": []
          },
          "execution_count": 84
        }
      ]
    },
    {
      "cell_type": "code",
      "metadata": {
        "id": "iQzLbYlKkgQo"
      },
      "source": [
        "assert predict.size(1) == crit.size"
      ],
      "execution_count": 85,
      "outputs": []
    },
    {
      "cell_type": "code",
      "metadata": {
        "colab": {
          "base_uri": "https://localhost:8080/"
        },
        "id": "LxsTm64pk7fx",
        "outputId": "055238ff-eab7-444b-b27f-4e8b42ecd717"
      },
      "source": [
        "true_dist = predict.data.clone()\n",
        "true_dist.fill_(crit.smoothing / (crit.size - 2) )"
      ],
      "execution_count": 86,
      "outputs": [
        {
          "output_type": "execute_result",
          "data": {
            "text/plain": [
              "tensor([[0.1333, 0.1333, 0.1333, 0.1333, 0.1333],\n",
              "        [0.1333, 0.1333, 0.1333, 0.1333, 0.1333],\n",
              "        [0.1333, 0.1333, 0.1333, 0.1333, 0.1333]])"
            ]
          },
          "metadata": {
            "tags": []
          },
          "execution_count": 86
        }
      ]
    },
    {
      "cell_type": "code",
      "metadata": {
        "colab": {
          "base_uri": "https://localhost:8080/",
          "height": 285
        },
        "id": "zPaGSnrplQY5",
        "outputId": "1a3e0abc-00fd-4a87-ff83-cafd530bc8b3"
      },
      "source": [
        "plt.imshow(Variable(true_dist.log()))"
      ],
      "execution_count": 87,
      "outputs": [
        {
          "output_type": "execute_result",
          "data": {
            "text/plain": [
              "<matplotlib.image.AxesImage at 0x7fdf48c30d10>"
            ]
          },
          "metadata": {
            "tags": []
          },
          "execution_count": 87
        },
        {
          "output_type": "display_data",
          "data": {
            "image/png": "[encoded data removed]",
            "text/plain": [
              "<Figure size 432x288 with 1 Axes>"
            ]
          },
          "metadata": {
            "tags": [],
            "needs_background": "light"
          }
        }
      ]
    },
    {
      "cell_type": "code",
      "metadata": {
        "colab": {
          "base_uri": "https://localhost:8080/"
        },
        "id": "Telu8VKelnfl",
        "outputId": "9736a71e-9e02-4ca4-92af-3fd7d9c98f0f"
      },
      "source": [
        "target.data.unsqueeze(1)"
      ],
      "execution_count": 88,
      "outputs": [
        {
          "output_type": "execute_result",
          "data": {
            "text/plain": [
              "tensor([[2],\n",
              "        [1],\n",
              "        [0]])"
            ]
          },
          "metadata": {
            "tags": []
          },
          "execution_count": 88
        }
      ]
    },
    {
      "cell_type": "code",
      "metadata": {
        "colab": {
          "base_uri": "https://localhost:8080/"
        },
        "id": "yRVkPZBSlTjJ",
        "outputId": "05816d6f-813b-4c95-8d79-885c9c52a536"
      },
      "source": [
        "true_dist.scatter_(1, target.data.unsqueeze(1), crit.confidence)"
      ],
      "execution_count": 89,
      "outputs": [
        {
          "output_type": "execute_result",
          "data": {
            "text/plain": [
              "tensor([[0.1333, 0.1333, 0.6000, 0.1333, 0.1333],\n",
              "        [0.1333, 0.6000, 0.1333, 0.1333, 0.1333],\n",
              "        [0.6000, 0.1333, 0.1333, 0.1333, 0.1333]])"
            ]
          },
          "metadata": {
            "tags": []
          },
          "execution_count": 89
        }
      ]
    },
    {
      "cell_type": "code",
      "metadata": {
        "colab": {
          "base_uri": "https://localhost:8080/"
        },
        "id": "UzJNu9BdliN4",
        "outputId": "39e62da9-e00d-41c2-e806-3703ca21882b"
      },
      "source": [
        "# Remove Padding idx's probability in each logit of token\n",
        "true_dist[:, crit.padding_idx] = 0\n",
        "true_dist"
      ],
      "execution_count": 90,
      "outputs": [
        {
          "output_type": "execute_result",
          "data": {
            "text/plain": [
              "tensor([[0.0000, 0.1333, 0.6000, 0.1333, 0.1333],\n",
              "        [0.0000, 0.6000, 0.1333, 0.1333, 0.1333],\n",
              "        [0.0000, 0.1333, 0.1333, 0.1333, 0.1333]])"
            ]
          },
          "metadata": {
            "tags": []
          },
          "execution_count": 90
        }
      ]
    },
    {
      "cell_type": "code",
      "metadata": {
        "colab": {
          "base_uri": "https://localhost:8080/"
        },
        "id": "gEW2AAaLmDSQ",
        "outputId": "08d1b2e0-c82d-4247-ae70-d39704a92e5b"
      },
      "source": [
        "# Masking Padding token's logit\n",
        "target.data == crit.padding_idx"
      ],
      "execution_count": 91,
      "outputs": [
        {
          "output_type": "execute_result",
          "data": {
            "text/plain": [
              "tensor([False, False,  True])"
            ]
          },
          "metadata": {
            "tags": []
          },
          "execution_count": 91
        }
      ]
    },
    {
      "cell_type": "code",
      "metadata": {
        "colab": {
          "base_uri": "https://localhost:8080/"
        },
        "id": "-W_MlNRIlu_Z",
        "outputId": "69a38c8c-7535-492a-d950-a003645240c7"
      },
      "source": [
        "mask = torch.nonzero(target.data == crit.padding_idx)\n",
        "mask"
      ],
      "execution_count": 92,
      "outputs": [
        {
          "output_type": "execute_result",
          "data": {
            "text/plain": [
              "tensor([[2]])"
            ]
          },
          "metadata": {
            "tags": []
          },
          "execution_count": 92
        }
      ]
    },
    {
      "cell_type": "code",
      "metadata": {
        "colab": {
          "base_uri": "https://localhost:8080/"
        },
        "id": "mTnPe6Otl_zH",
        "outputId": "61588eca-d7d3-4ec9-8ea3-2f65c7f4c2aa"
      },
      "source": [
        "mask.dim()"
      ],
      "execution_count": 93,
      "outputs": [
        {
          "output_type": "execute_result",
          "data": {
            "text/plain": [
              "2"
            ]
          },
          "metadata": {
            "tags": []
          },
          "execution_count": 93
        }
      ]
    },
    {
      "cell_type": "code",
      "metadata": {
        "colab": {
          "base_uri": "https://localhost:8080/"
        },
        "id": "SEoK0a8ymRCu",
        "outputId": "56efce88-1fe0-4d6b-d91f-531352ca0ff8"
      },
      "source": [
        "mask.squeeze()"
      ],
      "execution_count": 94,
      "outputs": [
        {
          "output_type": "execute_result",
          "data": {
            "text/plain": [
              "tensor(2)"
            ]
          },
          "metadata": {
            "tags": []
          },
          "execution_count": 94
        }
      ]
    },
    {
      "cell_type": "code",
      "metadata": {
        "colab": {
          "base_uri": "https://localhost:8080/"
        },
        "id": "NpzIzuYqmIeo",
        "outputId": "3f44ac9f-3d1b-488d-8a37-36f06936105d"
      },
      "source": [
        "if mask.dim() > 0:\n",
        "    true_dist.index_fill_(0, mask.squeeze(), 0.0)\n",
        "true_dist"
      ],
      "execution_count": 95,
      "outputs": [
        {
          "output_type": "execute_result",
          "data": {
            "text/plain": [
              "tensor([[0.0000, 0.1333, 0.6000, 0.1333, 0.1333],\n",
              "        [0.0000, 0.6000, 0.1333, 0.1333, 0.1333],\n",
              "        [0.0000, 0.0000, 0.0000, 0.0000, 0.0000]])"
            ]
          },
          "metadata": {
            "tags": []
          },
          "execution_count": 95
        }
      ]
    },
    {
      "cell_type": "code",
      "metadata": {
        "colab": {
          "base_uri": "https://localhost:8080/",
          "height": 285
        },
        "id": "RSrY_2sWmdzr",
        "outputId": "f9c94c31-a485-4dcc-96dd-04dc2ef6d017"
      },
      "source": [
        "plt.imshow(true_dist)"
      ],
      "execution_count": 96,
      "outputs": [
        {
          "output_type": "execute_result",
          "data": {
            "text/plain": [
              "<matplotlib.image.AxesImage at 0x7fdf48d22b90>"
            ]
          },
          "metadata": {
            "tags": []
          },
          "execution_count": 96
        },
        {
          "output_type": "display_data",
          "data": {
            "image/png": "[encoded data removed]",
            "text/plain": [
              "<Figure size 432x288 with 1 Axes>"
            ]
          },
          "metadata": {
            "tags": [],
            "needs_background": "light"
          }
        }
      ]
    },
    {
      "cell_type": "code",
      "metadata": {
        "colab": {
          "base_uri": "https://localhost:8080/"
        },
        "id": "CfaD2xH6snDj",
        "outputId": "61a4deb9-fb89-4703-e3a4-f0e38e65e149"
      },
      "source": [
        "crit.criterion(predict, Variable(true_dist, requires_grad=False))"
      ],
      "execution_count": 97,
      "outputs": [
        {
          "output_type": "execute_result",
          "data": {
            "text/plain": [
              "tensor(-2.9116)"
            ]
          },
          "metadata": {
            "tags": []
          },
          "execution_count": 97
        }
      ]
    },
    {
      "cell_type": "markdown",
      "metadata": {
        "id": "-Qep9GbXtMn-"
      },
      "source": [
        "> Label smoothing actually starts to penalize the model if it gets very confident about a given choice."
      ]
    },
    {
      "cell_type": "code",
      "metadata": {
        "id": "CrixnBKXyotC"
      },
      "source": [
        "crit = LabelSmoothing(5, 0, 0)\n",
        "def loss(x):\n",
        "    d = x + 3\n",
        "    predict = torch.FloatTensor([[0, x / d, 1 / d, 1 / d, 1 / d]])\n",
        "    # print(predict)\n",
        "    return crit(Variable(predict.log()),\n",
        "                Variable(torch.LongTensor([1]))).detach()"
      ],
      "execution_count": 189,
      "outputs": []
    },
    {
      "cell_type": "code",
      "metadata": {
        "colab": {
          "base_uri": "https://localhost:8080/",
          "height": 317
        },
        "id": "rRuWp6sPzZiZ",
        "outputId": "1bde878a-0d2f-4102-9496-59a8063e9334"
      },
      "source": [
        "plt.plot(np.arange(1, 100), [loss(x) for x in range(1, 100)])\n",
        "plt.ylabel('KL-Divergence')\n",
        "plt.xlabel('Over-confidence Degree(from low to high)')"
      ],
      "execution_count": 190,
      "outputs": [
        {
          "output_type": "execute_result",
          "data": {
            "text/plain": [
              "Text(0.5, 0, 'Over-confidence Degree(from low to high)')"
            ]
          },
          "metadata": {
            "tags": []
          },
          "execution_count": 190
        },
        {
          "output_type": "display_data",
          "data": {
            "image/png": "[encoded data removed]",
            "text/plain": [
              "<Figure size 432x288 with 1 Axes>"
            ]
          },
          "metadata": {
            "tags": [],
            "needs_background": "light"
          }
        }
      ]
    },
    {
      "cell_type": "code",
      "metadata": {
        "id": "1OoMythA2fvP"
      },
      "source": [
        "crit = LabelSmoothing(5, 0, 0.1)\n",
        "def loss(x):\n",
        "    d = x + 3\n",
        "    predict = torch.FloatTensor([[0, x / d, 1 / d, 1 / d, 1 / d]])\n",
        "    # print(predict)\n",
        "    return crit(Variable(predict.log()),\n",
        "                Variable(torch.LongTensor([1]))).detach()"
      ],
      "execution_count": 191,
      "outputs": []
    },
    {
      "cell_type": "code",
      "metadata": {
        "colab": {
          "base_uri": "https://localhost:8080/",
          "height": 317
        },
        "id": "ACM-O59a3obW",
        "outputId": "e9ae95a5-fbfa-4ec0-d709-bffa579c78f3"
      },
      "source": [
        "# When the model gets very confident about a given choice, \n",
        "# the loss of the model with LS is getting incresed.\n",
        "plt.plot(np.arange(1, 100), [loss(x) for x in range(1, 100)])\n",
        "plt.ylabel('KL-Divergence')\n",
        "plt.xlabel('Over-confidence Degree(from low to high)')"
      ],
      "execution_count": 192,
      "outputs": [
        {
          "output_type": "execute_result",
          "data": {
            "text/plain": [
              "Text(0.5, 0, 'Over-confidence Degree(from low to high)')"
            ]
          },
          "metadata": {
            "tags": []
          },
          "execution_count": 192
        },
        {
          "output_type": "display_data",
          "data": {
            "image/png": "[encoded data removed]",
            "text/plain": [
              "<Figure size 432x288 with 1 Axes>"
            ]
          },
          "metadata": {
            "tags": [],
            "needs_background": "light"
          }
        }
      ]
    },
    {
      "cell_type": "markdown",
      "metadata": {
        "id": "pheLDdV33p19"
      },
      "source": [
        "# A First Example"
      ]
    },
    {
      "cell_type": "markdown",
      "metadata": {
        "id": "qqUhKmdM4gDZ"
      },
      "source": [
        "> We can begin by trying out a simple copy-task. Given a random set of input symbols from a small vocabulary, the goal is to generate back those same symbols."
      ]
    },
    {
      "cell_type": "markdown",
      "metadata": {
        "id": "ozqVfqpEvqNI"
      },
      "source": [
        "## Automatic Mixed Precision(AMP)"
      ]
    },
    {
      "cell_type": "code",
      "metadata": {
        "id": "3qRk9S4kvwnO"
      },
      "source": [
        "use_amp = True\n",
        "scalar = torch.cuda.amp.GradScaler(enabled=use_amp)"
      ],
      "execution_count": 193,
      "outputs": []
    },
    {
      "cell_type": "markdown",
      "metadata": {
        "id": "ceUJT7LK4isO"
      },
      "source": [
        "## Synthetic Data"
      ]
    },
    {
      "cell_type": "code",
      "metadata": {
        "id": "5_6C-31t4se6"
      },
      "source": [
        "def data_gen(V, batch, nbatches):\n",
        "    \"Generate random data for a src-tgt copy task.\"\n",
        "    for i in range(nbatches):\n",
        "        data = torch.from_numpy(np.random.randint(1, V, size=(batch, 10)))\n",
        "        data[:, 0] = 1\n",
        "        src = Variable(data, requires_grad=False).cuda()\n",
        "        tgt = Variable(data, requires_grad=False).cuda()\n",
        "        yield Batch(src, tgt, 0)"
      ],
      "execution_count": 194,
      "outputs": []
    },
    {
      "cell_type": "markdown",
      "metadata": {
        "id": "THbcvSRq5Qb8"
      },
      "source": [
        "## Loss Computation"
      ]
    },
    {
      "cell_type": "code",
      "metadata": {
        "id": "GCldnZ8P5xUF"
      },
      "source": [
        "class SimpleLossCompute:\n",
        "    \"A simple loss compute and train function.\"\n",
        "    def __init__(self, generator, criterion, opt=None, use_amp=False):\n",
        "        self.generator = generator\n",
        "        self.criterion = criterion\n",
        "        self.opt = opt\n",
        "        self.use_amp = use_amp\n",
        "    \n",
        "    def __call__(self, x, y, norm):\n",
        "        with torch.cuda.amp.autocast(enabled=self.use_amp):\n",
        "            x = self.generator(x)\n",
        "            # [B, S, E] -> [B*S, E]\n",
        "            loss = self.criterion(x.contiguous().view(-1, x.size(-1)),\n",
        "                                y.contiguous().view(-1)) / norm\n",
        "        # loss.backward()\n",
        "        if self.opt is not None:\n",
        "            self.opt.scaler.scale(loss).backward()\n",
        "            self.opt.step()\n",
        "            self.opt.optimizer.zero_grad()\n",
        "        return loss.detach() * norm"
      ],
      "execution_count": 195,
      "outputs": []
    },
    {
      "cell_type": "markdown",
      "metadata": {
        "id": "BqoKKujh6dq6"
      },
      "source": [
        "## Greedy Decoding\n"
      ]
    },
    {
      "cell_type": "code",
      "metadata": {
        "colab": {
          "base_uri": "https://localhost:8080/"
        },
        "id": "oXkspzlJ9cQD",
        "outputId": "0866e429-c254-41fe-e268-29e96dc7c0d9"
      },
      "source": [
        "# Train the simple copy task.\n",
        "V = 11\n",
        "criterion = LabelSmoothing(size=V, padding_idx=0, smoothing=0.0)\n",
        "model = make_model(V, V, N=2)\n",
        "model.cuda()\n",
        "model_opt = NoamOpt(model.src_embed[0].d_model, 1, 400,\n",
        "                    torch.optim.Adam(model.parameters(),\n",
        "                                    lr=0, betas=(0.9, 0.98), eps=1e-9),\n",
        "                    use_amp=True)\n",
        "\n",
        "for epoch in range(10):\n",
        "    model.train()\n",
        "    run_epoch(data_gen(V, 30, 20), model,\n",
        "              SimpleLossCompute(model.generator, criterion, model_opt, use_amp=True))\n",
        "    model.eval()\n",
        "    print(run_epoch(data_gen(V, 30, 5), model,\n",
        "                SimpleLossCompute(model.generator, criterion, None)).detach())\n"
      ],
      "execution_count": 196,
      "outputs": [
        {
          "output_type": "stream",
          "text": [
            "Epoch Step: 1 Loss: 3.132861375808716              Tokens per Sec: 7008.87255859375\n",
            "Epoch Step: 1 Loss: 1.8251698017120361              Tokens per Sec: 24565.603515625\n",
            "tensor(1.8610, device='cuda:0')\n",
            "Epoch Step: 1 Loss: 1.9404135942459106              Tokens per Sec: 10693.4912109375\n",
            "Epoch Step: 1 Loss: 1.6160850524902344              Tokens per Sec: 30950.04296875\n",
            "tensor(1.6172, device='cuda:0')\n",
            "Epoch Step: 1 Loss: 1.6778135299682617              Tokens per Sec: 10501.560546875\n",
            "Epoch Step: 1 Loss: 1.2646641731262207              Tokens per Sec: 36516.30859375\n",
            "tensor(1.2884, device='cuda:0')\n",
            "Epoch Step: 1 Loss: 1.4471287727355957              Tokens per Sec: 10343.8671875\n",
            "Epoch Step: 1 Loss: 1.0967955589294434              Tokens per Sec: 32008.0859375\n",
            "tensor(1.0923, device='cuda:0')\n",
            "Epoch Step: 1 Loss: 1.3000785112380981              Tokens per Sec: 9766.6875\n",
            "Epoch Step: 1 Loss: 0.5936608910560608              Tokens per Sec: 36018.640625\n",
            "tensor(0.6141, device='cuda:0')\n",
            "Epoch Step: 1 Loss: 0.687447190284729              Tokens per Sec: 10335.7001953125\n",
            "Epoch Step: 1 Loss: 0.3495688736438751              Tokens per Sec: 36588.8671875\n",
            "tensor(0.3908, device='cuda:0')\n",
            "Epoch Step: 1 Loss: 0.5251114368438721              Tokens per Sec: 9845.5693359375\n",
            "Epoch Step: 1 Loss: 0.388436883687973              Tokens per Sec: 26751.916015625\n",
            "tensor(0.4711, device='cuda:0')\n",
            "Epoch Step: 1 Loss: 0.5055170059204102              Tokens per Sec: 9116.0712890625\n",
            "Epoch Step: 1 Loss: 0.2891824543476105              Tokens per Sec: 27384.583984375\n",
            "tensor(0.2728, device='cuda:0')\n",
            "Epoch Step: 1 Loss: 0.4375011622905731              Tokens per Sec: 10380.1328125\n",
            "Epoch Step: 1 Loss: 0.39257875084877014              Tokens per Sec: 32287.333984375\n",
            "tensor(0.3462, device='cuda:0')\n",
            "Epoch Step: 1 Loss: 0.6350000500679016              Tokens per Sec: 9493.9501953125\n",
            "Epoch Step: 1 Loss: 0.2370215654373169              Tokens per Sec: 27684.8359375\n",
            "tensor(0.2175, device='cuda:0')\n"
          ],
          "name": "stdout"
        }
      ]
    },
    {
      "cell_type": "markdown",
      "metadata": {
        "id": "ZcD6AUEmSXpc"
      },
      "source": [
        "**[Note] Need to study Decoding Methods**"
      ]
    },
    {
      "cell_type": "markdown",
      "metadata": {
        "id": "BU9e-cIlB_RM"
      },
      "source": [
        "> This code predicts a translation using greedy decoding for simplicity.\n",
        "\n"
      ]
    },
    {
      "cell_type": "code",
      "metadata": {
        "id": "_-vSWwB2pvqR"
      },
      "source": [
        "def greedy_decode(model, src, src_mask, max_len, start_symbol):\n",
        "    memory = model.encode(src, src_mask)\n",
        "    ys = torch.ones(1, 1).fill_(start_symbol).type_as(src.data)\n",
        "    for i in range(max_len - 1):\n",
        "        out = model.decode(memory, src_mask,\n",
        "                           Variable(ys),\n",
        "                           Variable(subsequent_mask(ys.size(1))\n",
        "                                    .type_as(src.data)))\n",
        "        prob = model.generator(out[:, -1])\n",
        "        _, next_word = torch.max(prob, dim = 1)\n",
        "        next_word = next_word.item()\n",
        "        ys = torch.cat([ys,\n",
        "                        torch.ones(1, 1).type_as(src.data).fill_(next_word)], dim=1)\n",
        "    return ys"
      ],
      "execution_count": 197,
      "outputs": []
    },
    {
      "cell_type": "code",
      "metadata": {
        "colab": {
          "base_uri": "https://localhost:8080/"
        },
        "id": "MPCa6SZuN4wb",
        "outputId": "88bf1b12-f06a-49e9-86d9-24f40026359c"
      },
      "source": [
        "model.eval()\n",
        "src = Variable(torch.LongTensor([[1, 2, 3, 4, 5, 6, 7, 8, 9, 10]])).cuda()\n",
        "src_mask = Variable(torch.ones(1, 1, 10)).cuda()\n",
        "print(greedy_decode(model, src, src_mask, max_len=10, start_symbol=1))"
      ],
      "execution_count": 198,
      "outputs": [
        {
          "output_type": "stream",
          "text": [
            "tensor([[ 1,  2,  3,  4,  5,  6,  7,  8,  9, 10]], device='cuda:0')\n"
          ],
          "name": "stdout"
        }
      ]
    },
    {
      "cell_type": "markdown",
      "metadata": {
        "id": "fKZ-u9fVP9ea"
      },
      "source": [
        "# A Real World Example"
      ]
    },
    {
      "cell_type": "markdown",
      "metadata": {
        "id": "FyNofJEcT_VO"
      },
      "source": [
        "Now we consider a real-world example using the IWSLT German-English Translation task. This task is much smaller than the WMT task considered in the paper, but it illustrates the whole system. We also show how to use multi-gpu processing to make it really fast."
      ]
    },
    {
      "cell_type": "code",
      "metadata": {
        "colab": {
          "base_uri": "https://localhost:8080/"
        },
        "id": "tmHkuDr-VzNw",
        "outputId": "99dfc3e4-d968-4574-f167-b82c14b9ef56"
      },
      "source": [
        "!python -m spacy download en\n",
        "!python -m spacy download de"
      ],
      "execution_count": 113,
      "outputs": [
        {
          "output_type": "stream",
          "text": [
            "Requirement already satisfied: en_core_web_sm==2.2.5 from https://github.com/explosion/spacy-models/releases/download/en_core_web_sm-2.2.5/en_core_web_sm-2.2.5.tar.gz#egg=en_core_web_sm==2.2.5 in /usr/local/lib/python3.7/dist-packages (2.2.5)\n",
            "Requirement already satisfied: spacy>=2.2.2 in /usr/local/lib/python3.7/dist-packages (from en_core_web_sm==2.2.5) (2.2.4)\n",
            "Requirement already satisfied: cymem<2.1.0,>=2.0.2 in /usr/local/lib/python3.7/dist-packages (from spacy>=2.2.2->en_core_web_sm==2.2.5) (2.0.5)\n",
            "Requirement already satisfied: catalogue<1.1.0,>=0.0.7 in /usr/local/lib/python3.7/dist-packages (from spacy>=2.2.2->en_core_web_sm==2.2.5) (1.0.0)\n",
            "Requirement already satisfied: plac<1.2.0,>=0.9.6 in /usr/local/lib/python3.7/dist-packages (from spacy>=2.2.2->en_core_web_sm==2.2.5) (1.1.3)\n",
            "Requirement already satisfied: srsly<1.1.0,>=1.0.2 in /usr/local/lib/python3.7/dist-packages (from spacy>=2.2.2->en_core_web_sm==2.2.5) (1.0.5)\n",
            "Requirement already satisfied: preshed<3.1.0,>=3.0.2 in /usr/local/lib/python3.7/dist-packages (from spacy>=2.2.2->en_core_web_sm==2.2.5) (3.0.5)\n",
            "Requirement already satisfied: blis<0.5.0,>=0.4.0 in /usr/local/lib/python3.7/dist-packages (from spacy>=2.2.2->en_core_web_sm==2.2.5) (0.4.1)\n",
            "Requirement already satisfied: numpy>=1.15.0 in /usr/local/lib/python3.7/dist-packages (from spacy>=2.2.2->en_core_web_sm==2.2.5) (1.19.5)\n",
            "Requirement already satisfied: requests<3.0.0,>=2.13.0 in /usr/local/lib/python3.7/dist-packages (from spacy>=2.2.2->en_core_web_sm==2.2.5) (2.23.0)\n",
            "Requirement already satisfied: thinc==7.4.0 in /usr/local/lib/python3.7/dist-packages (from spacy>=2.2.2->en_core_web_sm==2.2.5) (7.4.0)\n",
            "Requirement already satisfied: murmurhash<1.1.0,>=0.28.0 in /usr/local/lib/python3.7/dist-packages (from spacy>=2.2.2->en_core_web_sm==2.2.5) (1.0.5)\n",
            "Requirement already satisfied: tqdm<5.0.0,>=4.38.0 in /usr/local/lib/python3.7/dist-packages (from spacy>=2.2.2->en_core_web_sm==2.2.5) (4.41.1)\n",
            "Requirement already satisfied: wasabi<1.1.0,>=0.4.0 in /usr/local/lib/python3.7/dist-packages (from spacy>=2.2.2->en_core_web_sm==2.2.5) (0.8.2)\n",
            "Requirement already satisfied: setuptools in /usr/local/lib/python3.7/dist-packages (from spacy>=2.2.2->en_core_web_sm==2.2.5) (57.0.0)\n",
            "Requirement already satisfied: importlib-metadata>=0.20; python_version < \"3.8\" in /usr/local/lib/python3.7/dist-packages (from catalogue<1.1.0,>=0.0.7->spacy>=2.2.2->en_core_web_sm==2.2.5) (4.5.0)\n",
            "Requirement already satisfied: certifi>=2017.4.17 in /usr/local/lib/python3.7/dist-packages (from requests<3.0.0,>=2.13.0->spacy>=2.2.2->en_core_web_sm==2.2.5) (2021.5.30)\n",
            "Requirement already satisfied: urllib3!=1.25.0,!=1.25.1,<1.26,>=1.21.1 in /usr/local/lib/python3.7/dist-packages (from requests<3.0.0,>=2.13.0->spacy>=2.2.2->en_core_web_sm==2.2.5) (1.24.3)\n",
            "Requirement already satisfied: idna<3,>=2.5 in /usr/local/lib/python3.7/dist-packages (from requests<3.0.0,>=2.13.0->spacy>=2.2.2->en_core_web_sm==2.2.5) (2.10)\n",
            "Requirement already satisfied: chardet<4,>=3.0.2 in /usr/local/lib/python3.7/dist-packages (from requests<3.0.0,>=2.13.0->spacy>=2.2.2->en_core_web_sm==2.2.5) (3.0.4)\n",
            "Requirement already satisfied: zipp>=0.5 in /usr/local/lib/python3.7/dist-packages (from importlib-metadata>=0.20; python_version < \"3.8\"->catalogue<1.1.0,>=0.0.7->spacy>=2.2.2->en_core_web_sm==2.2.5) (3.4.1)\n",
            "Requirement already satisfied: typing-extensions>=3.6.4; python_version < \"3.8\" in /usr/local/lib/python3.7/dist-packages (from importlib-metadata>=0.20; python_version < \"3.8\"->catalogue<1.1.0,>=0.0.7->spacy>=2.2.2->en_core_web_sm==2.2.5) (3.7.4.3)\n",
            "\u001b[38;5;2m✔ Download and installation successful\u001b[0m\n",
            "You can now load the model via spacy.load('en_core_web_sm')\n",
            "\u001b[38;5;2m✔ Linking successful\u001b[0m\n",
            "/usr/local/lib/python3.7/dist-packages/en_core_web_sm -->\n",
            "/usr/local/lib/python3.7/dist-packages/spacy/data/en\n",
            "You can now load the model via spacy.load('en')\n",
            "Requirement already satisfied: de_core_news_sm==2.2.5 from https://github.com/explosion/spacy-models/releases/download/de_core_news_sm-2.2.5/de_core_news_sm-2.2.5.tar.gz#egg=de_core_news_sm==2.2.5 in /usr/local/lib/python3.7/dist-packages (2.2.5)\n",
            "Requirement already satisfied: spacy>=2.2.2 in /usr/local/lib/python3.7/dist-packages (from de_core_news_sm==2.2.5) (2.2.4)\n",
            "Requirement already satisfied: blis<0.5.0,>=0.4.0 in /usr/local/lib/python3.7/dist-packages (from spacy>=2.2.2->de_core_news_sm==2.2.5) (0.4.1)\n",
            "Requirement already satisfied: catalogue<1.1.0,>=0.0.7 in /usr/local/lib/python3.7/dist-packages (from spacy>=2.2.2->de_core_news_sm==2.2.5) (1.0.0)\n",
            "Requirement already satisfied: tqdm<5.0.0,>=4.38.0 in /usr/local/lib/python3.7/dist-packages (from spacy>=2.2.2->de_core_news_sm==2.2.5) (4.41.1)\n",
            "Requirement already satisfied: plac<1.2.0,>=0.9.6 in /usr/local/lib/python3.7/dist-packages (from spacy>=2.2.2->de_core_news_sm==2.2.5) (1.1.3)\n",
            "Requirement already satisfied: requests<3.0.0,>=2.13.0 in /usr/local/lib/python3.7/dist-packages (from spacy>=2.2.2->de_core_news_sm==2.2.5) (2.23.0)\n",
            "Requirement already satisfied: cymem<2.1.0,>=2.0.2 in /usr/local/lib/python3.7/dist-packages (from spacy>=2.2.2->de_core_news_sm==2.2.5) (2.0.5)\n",
            "Requirement already satisfied: srsly<1.1.0,>=1.0.2 in /usr/local/lib/python3.7/dist-packages (from spacy>=2.2.2->de_core_news_sm==2.2.5) (1.0.5)\n",
            "Requirement already satisfied: preshed<3.1.0,>=3.0.2 in /usr/local/lib/python3.7/dist-packages (from spacy>=2.2.2->de_core_news_sm==2.2.5) (3.0.5)\n",
            "Requirement already satisfied: murmurhash<1.1.0,>=0.28.0 in /usr/local/lib/python3.7/dist-packages (from spacy>=2.2.2->de_core_news_sm==2.2.5) (1.0.5)\n",
            "Requirement already satisfied: wasabi<1.1.0,>=0.4.0 in /usr/local/lib/python3.7/dist-packages (from spacy>=2.2.2->de_core_news_sm==2.2.5) (0.8.2)\n",
            "Requirement already satisfied: numpy>=1.15.0 in /usr/local/lib/python3.7/dist-packages (from spacy>=2.2.2->de_core_news_sm==2.2.5) (1.19.5)\n",
            "Requirement already satisfied: setuptools in /usr/local/lib/python3.7/dist-packages (from spacy>=2.2.2->de_core_news_sm==2.2.5) (57.0.0)\n",
            "Requirement already satisfied: thinc==7.4.0 in /usr/local/lib/python3.7/dist-packages (from spacy>=2.2.2->de_core_news_sm==2.2.5) (7.4.0)\n",
            "Requirement already satisfied: importlib-metadata>=0.20; python_version < \"3.8\" in /usr/local/lib/python3.7/dist-packages (from catalogue<1.1.0,>=0.0.7->spacy>=2.2.2->de_core_news_sm==2.2.5) (4.5.0)\n",
            "Requirement already satisfied: urllib3!=1.25.0,!=1.25.1,<1.26,>=1.21.1 in /usr/local/lib/python3.7/dist-packages (from requests<3.0.0,>=2.13.0->spacy>=2.2.2->de_core_news_sm==2.2.5) (1.24.3)\n",
            "Requirement already satisfied: chardet<4,>=3.0.2 in /usr/local/lib/python3.7/dist-packages (from requests<3.0.0,>=2.13.0->spacy>=2.2.2->de_core_news_sm==2.2.5) (3.0.4)\n",
            "Requirement already satisfied: certifi>=2017.4.17 in /usr/local/lib/python3.7/dist-packages (from requests<3.0.0,>=2.13.0->spacy>=2.2.2->de_core_news_sm==2.2.5) (2021.5.30)\n",
            "Requirement already satisfied: idna<3,>=2.5 in /usr/local/lib/python3.7/dist-packages (from requests<3.0.0,>=2.13.0->spacy>=2.2.2->de_core_news_sm==2.2.5) (2.10)\n",
            "Requirement already satisfied: zipp>=0.5 in /usr/local/lib/python3.7/dist-packages (from importlib-metadata>=0.20; python_version < \"3.8\"->catalogue<1.1.0,>=0.0.7->spacy>=2.2.2->de_core_news_sm==2.2.5) (3.4.1)\n",
            "Requirement already satisfied: typing-extensions>=3.6.4; python_version < \"3.8\" in /usr/local/lib/python3.7/dist-packages (from importlib-metadata>=0.20; python_version < \"3.8\"->catalogue<1.1.0,>=0.0.7->spacy>=2.2.2->de_core_news_sm==2.2.5) (3.7.4.3)\n",
            "\u001b[38;5;2m✔ Download and installation successful\u001b[0m\n",
            "You can now load the model via spacy.load('de_core_news_sm')\n",
            "\u001b[38;5;2m✔ Linking successful\u001b[0m\n",
            "/usr/local/lib/python3.7/dist-packages/de_core_news_sm -->\n",
            "/usr/local/lib/python3.7/dist-packages/spacy/data/de\n",
            "You can now load the model via spacy.load('de')\n"
          ],
          "name": "stdout"
        }
      ]
    },
    {
      "cell_type": "markdown",
      "metadata": {
        "id": "AUyIcHueWBr4"
      },
      "source": [
        "## Data Loading"
      ]
    },
    {
      "cell_type": "markdown",
      "metadata": {
        "id": "hWr-z9BiWB2M"
      },
      "source": [
        "> We will load the dataset using torchtext and spacy for tokenization."
      ]
    },
    {
      "cell_type": "code",
      "metadata": {
        "id": "k1QcvE_qWG3Q",
        "colab": {
          "base_uri": "https://localhost:8080/"
        },
        "outputId": "de559d04-082d-4071-869a-85bf07e09172"
      },
      "source": [
        "# For data loading.\n",
        "from torchtext import datasets\n",
        "from torchtext.data.utils import get_tokenizer\n",
        "from torchtext.vocab import vocab\n",
        "from collections import Counter, OrderedDict\n",
        "\n",
        "tokenize_de = get_tokenizer('spacy', 'de')\n",
        "tokenize_en = get_tokenizer('spacy', 'en')\n",
        "\n",
        "BOS_WORD = '<s>'\n",
        "EOS_WORD = '</s>'\n",
        "BLANK_WORD = '<blank>'\n",
        "UNK_WORD = '<unk>' \n",
        "\n",
        "MAX_LEN = 100\n",
        "train_iter, val_iter, test_iter = datasets.IWSLT2016(\n",
        "                            split=('train', 'valid', 'test'),\n",
        "                            language_pair=('de','en'))\n",
        "    \n",
        "MIN_FREQ = 2\n",
        "\n",
        "src_counter = Counter()\n",
        "tgt_counter = Counter()\n",
        "\n",
        "train = []\n",
        "for (src, tgt) in train_iter:\n",
        "    _src = tokenize_de(src.rstrip('\\n'))\n",
        "    _tgt = tokenize_en(tgt.rstrip('\\n'))\n",
        "    if len(_src) <= MAX_LEN and len(_tgt) <= MAX_LEN:\n",
        "        src_counter.update(_src)\n",
        "        tgt_counter.update(_tgt)\n",
        "        train.append((src, tgt))\n",
        "val = []\n",
        "for (src, tgt) in val_iter:\n",
        "    _src = tokenize_de(src.rstrip('\\n'))\n",
        "    _tgt = tokenize_en(tgt.rstrip('\\n'))\n",
        "    if len(_src) <= MAX_LEN and len(_tgt) <= MAX_LEN:\n",
        "        val.append((src, tgt))\n",
        "test = []\n",
        "for (src, tgt) in test_iter:\n",
        "    _src = tokenize_de(src.rstrip('\\n'))\n",
        "    _tgt = tokenize_en(tgt.rstrip('\\n'))\n",
        "    if len(_src) <= MAX_LEN and len(_tgt) <= MAX_LEN:\n",
        "        test.append((src, tgt))\n",
        "\n",
        "specials = [UNK_WORD, BLANK_WORD, BOS_WORD, EOS_WORD]\n",
        "special_first = True\n",
        "\n",
        "if specials is not None:\n",
        "    for tok in specials:\n",
        "        del src_counter[tok]\n",
        "        del tgt_counter[tok]\n",
        "\n",
        "src_sorted_by_freq_tuples = sorted(src_counter.items(),\n",
        "                                    key=lambda x: x[1], reverse=True)\n",
        "tgt_sorted_by_freq_tuples = sorted(tgt_counter.items(),\n",
        "                                    key=lambda x: x[1], reverse=True)\n",
        "\n",
        "# cf. Original code: Sort by Freq, then by Alphabet\n",
        "# src_sorted_by_freq_tuples = sorted(src_counter.items(),\n",
        "#                                     key=lambda x: x[1], reverse=True)\n",
        "# src_sorted_by_freq_tuples.sort(key=lambda tup: tup[0])\n",
        "# tgt_sorted_by_freq_tuples = sorted(tgt_counter.items(),\n",
        "#                                     key=lambda x: x[1], reverse=True)\n",
        "# tgt_sorted_by_freq_tuples.sort(key=lambda tup: tup[0])\n",
        "\n",
        "src_ordered_dict = OrderedDict(src_sorted_by_freq_tuples)\n",
        "tgt_ordered_dict = OrderedDict(tgt_sorted_by_freq_tuples)\n",
        "\n",
        "# Add speicial tokens \n",
        "if specials is not None:\n",
        "    if special_first:\n",
        "        specials = specials[::-1]\n",
        "    for symbol in specials:\n",
        "        if symbol == BLANK_WORD or symbol == UNK_WORD:\n",
        "            src_ordered_dict.update({symbol: MIN_FREQ})\n",
        "            src_ordered_dict.move_to_end(symbol, last=not special_first)\n",
        "        tgt_ordered_dict.update({symbol: MIN_FREQ})\n",
        "        tgt_ordered_dict.move_to_end(symbol, last=not special_first)\n",
        "\n",
        "src_vocab = vocab(src_ordered_dict, MIN_FREQ)\n",
        "tgt_vocab = vocab(tgt_ordered_dict, MIN_FREQ)\n",
        "\n",
        "# make default index same as index of UNK_WORD\n",
        "src_vocab.set_default_index(src_vocab[UNK_WORD])\n",
        "tgt_vocab.set_default_index(tgt_vocab[UNK_WORD])"
      ],
      "execution_count": 132,
      "outputs": [
        {
          "output_type": "stream",
          "text": [
            "2016-01.tgz: 188MB [00:01, 153MB/s]\n"
          ],
          "name": "stderr"
        }
      ]
    },
    {
      "cell_type": "code",
      "metadata": {
        "colab": {
          "base_uri": "https://localhost:8080/"
        },
        "id": "3RdV5bE0Ar1Y",
        "outputId": "2557a048-8457-48f5-c595-9a55e61b30cf"
      },
      "source": [
        "print(\"The length of the new vocab is\", len(src_vocab), len(tgt_vocab), end='\\n\\n')\n",
        "new_src_vocab_stoi = src_vocab.get_stoi()\n",
        "new_tgt_vocab_stoi = tgt_vocab.get_stoi()\n",
        "\n",
        "print(f\"The index of src vocab's {UNK_WORD} is\", new_src_vocab_stoi[UNK_WORD]) \n",
        "print(f\"The index of src vocab's {BLANK_WORD} is\", new_src_vocab_stoi[BLANK_WORD], end='\\n\\n') \n",
        "for i in ([UNK_WORD] + specials):\n",
        "    print(f\"The index of tgt vocab's {i} is\", new_tgt_vocab_stoi[i])\n",
        "print()\n",
        "\n",
        "new_src_vocab_itos = src_vocab.get_itos()\n",
        "new_tgt_vocab_itos = tgt_vocab.get_itos()\n",
        "print(\"The token at index 2 is\", new_src_vocab_itos[2], new_tgt_vocab_itos[2])"
      ],
      "execution_count": 133,
      "outputs": [
        {
          "output_type": "stream",
          "text": [
            "The length of the new vocab is 58790 36323\n",
            "\n",
            "The index of src vocab's <unk> is 0\n",
            "The index of src vocab's <blank> is 1\n",
            "\n",
            "The index of tgt vocab's <unk> is 0\n",
            "The index of tgt vocab's </s> is 3\n",
            "The index of tgt vocab's <s> is 2\n",
            "The index of tgt vocab's <blank> is 1\n",
            "The index of tgt vocab's <unk> is 0\n",
            "\n",
            "The token at index 2 is , <s>\n"
          ],
          "name": "stdout"
        }
      ]
    },
    {
      "cell_type": "code",
      "metadata": {
        "colab": {
          "base_uri": "https://localhost:8080/"
        },
        "id": "M5Nl_jYO-AkO",
        "outputId": "04c21ff9-52dd-438f-bd48-d966e50cbc8d"
      },
      "source": [
        "# Pretrained weights\n",
        "# !wget https://s3.amazonaws.com/opennmt-models/iwslt.pt"
      ],
      "execution_count": null,
      "outputs": [
        {
          "output_type": "stream",
          "text": [
            "--2021-06-26 20:42:16--  https://s3.amazonaws.com/opennmt-models/iwslt.pt\n",
            "Resolving s3.amazonaws.com (s3.amazonaws.com)... 52.216.20.133\n",
            "Connecting to s3.amazonaws.com (s3.amazonaws.com)|52.216.20.133|:443... connected.\n",
            "HTTP request sent, awaiting response... 200 OK\n",
            "Length: 467317581 (446M) [application/x-www-form-urlencoded]\n",
            "Saving to: ‘iwslt.pt.5’\n",
            "\n",
            "iwslt.pt.5          100%[===================>] 445.67M  75.3MB/s    in 5.9s    \n",
            "\n",
            "2021-06-26 20:42:22 (75.2 MB/s) - ‘iwslt.pt.5’ saved [467317581/467317581]\n",
            "\n"
          ],
          "name": "stdout"
        }
      ]
    },
    {
      "cell_type": "markdown",
      "metadata": {
        "id": "P9OMb_WB-qPs"
      },
      "source": [
        "> Not exactly same vocab size compared to original implementation(but quite similar...)"
      ]
    },
    {
      "cell_type": "code",
      "metadata": {
        "colab": {
          "base_uri": "https://localhost:8080/"
        },
        "id": "Vl6oZvqnL_PE",
        "outputId": "f2dd0397-7e51-43c7-c470-e8554f3379d1"
      },
      "source": [
        "# model = torch.load('iwslt.pt')\n",
        "# model.src_embed, model.tgt_embed"
      ],
      "execution_count": null,
      "outputs": [
        {
          "output_type": "stream",
          "text": [
            "/usr/local/lib/python3.7/dist-packages/torch/serialization.py:671: SourceChangeWarning: source code of class 'torch.nn.modules.container.ModuleList' has changed. you can retrieve the original source code by accessing the object's source attribute or set `torch.nn.Module.dump_patches = True` and use the patch tool to revert the changes.\n",
            "  warnings.warn(msg, SourceChangeWarning)\n",
            "/usr/local/lib/python3.7/dist-packages/torch/serialization.py:671: SourceChangeWarning: source code of class 'torch.nn.modules.linear.Linear' has changed. you can retrieve the original source code by accessing the object's source attribute or set `torch.nn.Module.dump_patches = True` and use the patch tool to revert the changes.\n",
            "  warnings.warn(msg, SourceChangeWarning)\n",
            "/usr/local/lib/python3.7/dist-packages/torch/serialization.py:671: SourceChangeWarning: source code of class 'torch.nn.modules.dropout.Dropout' has changed. you can retrieve the original source code by accessing the object's source attribute or set `torch.nn.Module.dump_patches = True` and use the patch tool to revert the changes.\n",
            "  warnings.warn(msg, SourceChangeWarning)\n",
            "/usr/local/lib/python3.7/dist-packages/torch/serialization.py:671: SourceChangeWarning: source code of class 'torch.nn.modules.container.Sequential' has changed. you can retrieve the original source code by accessing the object's source attribute or set `torch.nn.Module.dump_patches = True` and use the patch tool to revert the changes.\n",
            "  warnings.warn(msg, SourceChangeWarning)\n",
            "/usr/local/lib/python3.7/dist-packages/torch/serialization.py:671: SourceChangeWarning: source code of class 'torch.nn.modules.sparse.Embedding' has changed. you can retrieve the original source code by accessing the object's source attribute or set `torch.nn.Module.dump_patches = True` and use the patch tool to revert the changes.\n",
            "  warnings.warn(msg, SourceChangeWarning)\n"
          ],
          "name": "stderr"
        },
        {
          "output_type": "execute_result",
          "data": {
            "text/plain": [
              "(Sequential(\n",
              "   (0): Embeddings(\n",
              "     (lut): Embedding(58794, 512)\n",
              "   )\n",
              "   (1): PositionalEncoding(\n",
              "     (dropout): Dropout(p=0.1, inplace=False)\n",
              "   )\n",
              " ), Sequential(\n",
              "   (0): Embeddings(\n",
              "     (lut): Embedding(36321, 512)\n",
              "   )\n",
              "   (1): PositionalEncoding(\n",
              "     (dropout): Dropout(p=0.1, inplace=False)\n",
              "   )\n",
              " ))"
            ]
          },
          "metadata": {
            "tags": []
          },
          "execution_count": 80
        }
      ]
    },
    {
      "cell_type": "markdown",
      "metadata": {
        "id": "IvF_cJJd3OP7"
      },
      "source": [
        "## Iterators"
      ]
    },
    {
      "cell_type": "code",
      "metadata": {
        "id": "L2nBeiVF713Q"
      },
      "source": [
        "def src_text_transform(x):\n",
        "     return [src_vocab[token] for token in tokenize_de(x)]\n",
        "\n",
        "def tgt_text_transform(x):\n",
        "     return [tgt_vocab[BOS_WORD]] + \\\n",
        "            [tgt_vocab[token] for token in tokenize_en(x)] + \\\n",
        "            [tgt_vocab[EOS_WORD]]"
      ],
      "execution_count": 134,
      "outputs": []
    },
    {
      "cell_type": "code",
      "metadata": {
        "id": "5T6C-9nY5rHz"
      },
      "source": [
        "from torch.utils.data import DataLoader\n",
        "from torch.nn.utils.rnn import pad_sequence\n",
        "\n",
        "def collate_batch(batch):\n",
        "    src_list, tgt_list = [], []\n",
        "    for (_src, _tgt) in batch:\n",
        "        src_list.append(torch.tensor(src_text_transform(_src)))\n",
        "        tgt_list.append(torch.tensor(tgt_text_transform(_tgt)))\n",
        "    \n",
        "    # 1.0 is BLANK_WORD's indext number\n",
        "    return pad_sequence(src_list, padding_value=1.0, batch_first=True), \\\n",
        "           pad_sequence(tgt_list, padding_value=1.0, batch_first=True) "
      ],
      "execution_count": 135,
      "outputs": []
    },
    {
      "cell_type": "code",
      "metadata": {
        "id": "B1I7wE445xL7"
      },
      "source": [
        "# Let's check the dataloader's output\n",
        "train_iter = datasets.IWSLT2016(split=('train'),\n",
        "                            language_pair=('de','en'))\n",
        "\n",
        "train_dataloader = DataLoader(list(train_iter), batch_size=2, shuffle=True, \n",
        "                              collate_fn=collate_batch)"
      ],
      "execution_count": 136,
      "outputs": []
    },
    {
      "cell_type": "code",
      "metadata": {
        "colab": {
          "base_uri": "https://localhost:8080/"
        },
        "id": "80BIETbz9wKD",
        "outputId": "46f90f48-6542-4614-b0a5-d69580b4a8f1"
      },
      "source": [
        "for _src, _tgt in train_dataloader:\n",
        "    print(_src, _tgt)\n",
        "    break"
      ],
      "execution_count": 137,
      "outputs": [
        {
          "output_type": "stream",
          "text": [
            "tensor([[   14,  3606,     4,   549,    18,   233,   528,   351,    15,   652,\n",
            "             2,  2648,     5,    21, 10390,    33,     4,   165,  8646,     3,\n",
            "             0],\n",
            "        [   25,  3259,   110,   452,   747,     2,  1605,    11,   270,   110,\n",
            "            23,  1802,     6,  2576,     3,     0,     1,     1,     1,     1,\n",
            "             1]]) tensor([[   2,  111, 1883,    6,  636,   50,    6,  263,   70, 6998,    7, 1128,\n",
            "          301,    4, 3947,    4, 3726,    7,   60,  263,    5,    0,    3],\n",
            "        [   2,   12,   80,  187,   27, 3079,   28,    6,  468,   12,   80,  112,\n",
            "           27,    6, 2868,    8,    6, 2938,    5,    0,    3,    1,    1]])\n"
          ],
          "name": "stdout"
        }
      ]
    },
    {
      "cell_type": "code",
      "metadata": {
        "colab": {
          "base_uri": "https://localhost:8080/"
        },
        "id": "RFxcX0Q5e6cB",
        "outputId": "0e5bd3ad-5fc6-477b-94e8-d3a57d39bbc6"
      },
      "source": [
        "_src.shape"
      ],
      "execution_count": 138,
      "outputs": [
        {
          "output_type": "execute_result",
          "data": {
            "text/plain": [
              "torch.Size([2, 21])"
            ]
          },
          "metadata": {
            "tags": []
          },
          "execution_count": 138
        }
      ]
    },
    {
      "cell_type": "markdown",
      "metadata": {
        "id": "LikckdHV5kmV"
      },
      "source": [
        "# Multi-GPU Training"
      ]
    },
    {
      "cell_type": "markdown",
      "metadata": {
        "id": "tLNhPdnlnJvC"
      },
      "source": [
        "> Finally to really target fast training, we will use multi-gpu. This code implements multi-gpu word generation. It is not specific to transformer so I won’t go into too much detail. The idea is to split up word generation at training time into chunks to be processed in parallel across many different gpus. We do this using pytorch parallel primitives:\n",
        "\n",
        "- replicate - split modules onto different gpus.\n",
        "- scatter - split batches onto different gpus\n",
        "- parallel_apply - apply module to batches on different gpus\n",
        "- gather - pull scattered data back onto one gpu.\n",
        "- nn.DataParallel - a special module wrapper that calls these all before evaluating.\n",
        "\n"
      ]
    },
    {
      "cell_type": "code",
      "metadata": {
        "id": "mGq-nwP-nKtx"
      },
      "source": [
        "# Skip if not interested in multigpu.\n",
        "class MultiGPULossCompute:\n",
        "    \"A multi-gpu loss compute and train function.\"\n",
        "    def __init__(self, generator, criterion, deivces, opt=None, chunk_size=5):\n",
        "        # Send out to different gpus.\n",
        "        self.generator = generator\n",
        "        self.criterion = nn.parallel.replicate(criterion,\n",
        "                                               devices=devices)\n",
        "        self.opt = opt\n",
        "        self.devices = devices\n",
        "        self.chunk_size = chunk_size\n",
        "\n",
        "    def __call_(self, out, targets, normalize):\n",
        "        total = 0.0\n",
        "        generator = nn.parallel.replicate(self.generator,\n",
        "                                        target_gpus=self.devices)\n",
        "        out_scatter = nn.parallel.scatter(out, target_gpus=self.devices)\n",
        "        out_grad = [[] for _ in out_scatter]\n",
        "        targets = nn.parallel.scatter(targets,\n",
        "                                      target_gpus=self.devices)\n",
        "        \n",
        "        # Divide generating into chunks.\n",
        "        chunk_size = self.chunk_size\n",
        "        for i in range(0, out_scatter[0].size(1), chunk_size):\n",
        "            # Predict distributions\n",
        "            out_colunm = [[Variable(o[:, i:i+chunk_size].detach(),\n",
        "                                    requires_grad=self.opt is not None)]\n",
        "                            for o in out_scattor]\n",
        "            gen = nn.parallel.parallel_apply(generator, out_column)\n",
        "\n",
        "            # Compute loss.\n",
        "            y = [(g.contiguous().view(-1, g.size(-1)),\n",
        "                  t[:, i:i+chunk_size].contiguous().view(-1))\n",
        "                 for g, t in zip(gen, targets)]\n",
        "            loss = nn.parallel.parallel_apply(self.criterion, y)\n",
        "            \n",
        "            # Sum an normalize loss\n",
        "            l = nn.parallel.gather(loss, target_device=self.devices[0])\n",
        "\n",
        "            l = l.sum()[0] / normalize\n",
        "            total += l.detach()\n",
        "\n",
        "            # Bacprop loss to output of transformer\n",
        "            if self.opt is not None:\n",
        "                l.backward()\n",
        "                for j, l in enumerate(loss):\n",
        "                    out_grad[j].append(out_column[j][0].grad.data.clone())\n",
        "        \n",
        "        # Backprop all loss thorough transformer.\n",
        "        if self.opt is not None:\n",
        "            out_grad = [Variable(torch.cat(og, dim=1)) for og in out_grad]\n",
        "            o1 = out\n",
        "            o2 = nn.parallel.gather(out_grad,\n",
        "                                    target_device=self.devices[0])\n",
        "            o1.backward(gradient=o2)\n",
        "            self.opt.step()\n",
        "            self.opt.optimzer.zero_grad()\n",
        "        return total * noramlize"
      ],
      "execution_count": 199,
      "outputs": []
    },
    {
      "cell_type": "markdown",
      "metadata": {
        "id": "pF3WDAERuuQO"
      },
      "source": [
        "> \bNow we create our model, criterion, optimizer, data iterators, and paralelization\n",
        "\n"
      ]
    },
    {
      "cell_type": "code",
      "metadata": {
        "id": "U7BnlrQ2uyVq"
      },
      "source": [
        "# GPUs to use\n",
        "multi_gpu = torch.cuda.device_count() > 1\n",
        "devices = [range(torch.cuda.device_count())]\n",
        "\n",
        "pad_idx = new_tgt_vocab_stoi['<blank>']\n",
        "model = make_model(len(src_vocab), len(tgt_vocab), N=6)\n",
        "model.cuda()\n",
        "criterion = LabelSmoothing(size=len(tgt_vocab),\n",
        "                          padding_idx=pad_idx, smoothing=0.1)\n",
        "criterion.cuda()\n",
        "BATCH_SIZE = 25\n",
        "\n",
        "# TODO: batch_size_fn\n",
        "train_iter = DataLoader(train, batch_size=BATCH_SIZE, shuffle=True, \n",
        "                            collate_fn=collate_batch)\n",
        "valid_iter = DataLoader(val, batch_size=BATCH_SIZE, shuffle=True, \n",
        "                            collate_fn=collate_batch)\n",
        "if multi_gpu:\n",
        "    model_par = nn.DataParallel(model, device_ids=devices)"
      ],
      "execution_count": 235,
      "outputs": []
    },
    {
      "cell_type": "markdown",
      "metadata": {
        "id": "t4exUCDhwiJW"
      },
      "source": [
        "> Now we train the model. I will play with the warmup steps a bit, but everything else uses the default parameters. On an AWS p3.8xlarge with 4 Tesla V100s, this runs at ~27,000 tokens per second with a batch size of 12,000"
      ]
    },
    {
      "cell_type": "markdown",
      "metadata": {
        "id": "ZLYwZabQygq2"
      },
      "source": [
        "# Training the System"
      ]
    },
    {
      "cell_type": "code",
      "metadata": {
        "colab": {
          "base_uri": "https://localhost:8080/"
        },
        "id": "zzECkXeiFcJ-",
        "outputId": "c0630d60-39b0-4e9c-dc77-cfaeae7034b0"
      },
      "source": [
        "# Pretrained weights\n",
        "# !wget https://s3.amazonaws.com/opennmt-models/iwslt.pt"
      ],
      "execution_count": null,
      "outputs": [
        {
          "output_type": "stream",
          "text": [
            "--2021-06-26 20:08:03--  https://s3.amazonaws.com/opennmt-models/iwslt.pt\n",
            "Resolving s3.amazonaws.com (s3.amazonaws.com)... 52.217.85.54\n",
            "Connecting to s3.amazonaws.com (s3.amazonaws.com)|52.217.85.54|:443... connected.\n",
            "HTTP request sent, awaiting response... 200 OK\n",
            "Length: 467317581 (446M) [application/x-www-form-urlencoded]\n",
            "Saving to: ‘iwslt.pt.3’\n",
            "\n",
            "iwslt.pt.3          100%[===================>] 445.67M  75.6MB/s    in 6.3s    \n",
            "\n",
            "2021-06-26 20:08:09 (70.8 MB/s) - ‘iwslt.pt.3’ saved [467317581/467317581]\n",
            "\n"
          ],
          "name": "stdout"
        }
      ]
    },
    {
      "cell_type": "code",
      "metadata": {
        "id": "RCBBiN7q03hQ"
      },
      "source": [
        "# Release GPU Memory\n",
        "import gc\n",
        "del model, model_opt, criterion\n",
        "gc.collect()\n",
        "torch.cuda.empty_cache()\n"
      ],
      "execution_count": 233,
      "outputs": []
    },
    {
      "cell_type": "code",
      "metadata": {
        "colab": {
          "base_uri": "https://localhost:8080/"
        },
        "id": "BAeuuUO22chv",
        "outputId": "370ba4d9-bcc5-4e4a-e228-1df26bc0c05f"
      },
      "source": [
        "!nvidia-smi"
      ],
      "execution_count": 234,
      "outputs": [
        {
          "output_type": "stream",
          "text": [
            "Sun Jun 27 10:45:38 2021       \n",
            "+-----------------------------------------------------------------------------+\n",
            "| NVIDIA-SMI 465.27       Driver Version: 460.32.03    CUDA Version: 11.2     |\n",
            "|-------------------------------+----------------------+----------------------+\n",
            "| GPU  Name        Persistence-M| Bus-Id        Disp.A | Volatile Uncorr. ECC |\n",
            "| Fan  Temp  Perf  Pwr:Usage/Cap|         Memory-Usage | GPU-Util  Compute M. |\n",
            "|                               |                      |               MIG M. |\n",
            "|===============================+======================+======================|\n",
            "|   0  Tesla V100-SXM2...  Off  | 00000000:00:04.0 Off |                    0 |\n",
            "| N/A   42C    P0    53W / 300W |   1367MiB / 16160MiB |      0%      Default |\n",
            "|                               |                      |                  N/A |\n",
            "+-------------------------------+----------------------+----------------------+\n",
            "                                                                               \n",
            "+-----------------------------------------------------------------------------+\n",
            "| Processes:                                                                  |\n",
            "|  GPU   GI   CI        PID   Type   Process name                  GPU Memory |\n",
            "|        ID   ID                                                   Usage      |\n",
            "|=============================================================================|\n",
            "+-----------------------------------------------------------------------------+\n"
          ],
          "name": "stdout"
        }
      ]
    },
    {
      "cell_type": "code",
      "metadata": {
        "id": "bCNBHRwNy-23",
        "colab": {
          "base_uri": "https://localhost:8080/"
        },
        "outputId": "b14e033a-94f7-4423-a52b-61c5477ac1a4"
      },
      "source": [
        "train_from_scratch = True\n",
        "EPOCH = 2\n",
        "s_e = 0\n",
        "if train_from_scratch:\n",
        "    model_opt = NoamOpt(model.src_embed[0].d_model, 1, 2000,\n",
        "                    torch.optim.Adam(model.parameters(),\n",
        "                    lr=0, betas=(0.9, 0.98), eps=1e-9), use_amp=True)\n",
        "    if multi_gpu:\n",
        "        for epoch in range(s_e, EPOCH):\n",
        "            model_par.train()\n",
        "            run_epoch(\n",
        "                (Batch(*map(lambda x: x.cuda(), b), pad_idx) for b in train_iter), \n",
        "                    model_par, \n",
        "                    MultiGPULossCompute(model.generator, criterion, \n",
        "                                        devices=devices, opt=model_opt))\n",
        "            model_par.eval()\n",
        "            loss = run_epoch(\n",
        "                (Batch(*map(lambda x: x.cuda(), b), pad_idx) for b in valid_iter), \n",
        "                            model_par, \n",
        "                            MultiGPULossCompute(model.generator, criterion, \n",
        "                            devices=devices, opt=None))\n",
        "            print(loss)\n",
        "\n",
        "    else:\n",
        "        for epoch in range(s_e, EPOCH):\n",
        "            model.train()\n",
        "            run_epoch(\n",
        "                (Batch(*map(lambda x: x.cuda(), b), pad_idx) for b in train_iter),\n",
        "                    model, SimpleLossCompute(model.generator, criterion, model_opt, use_amp=True))\n",
        "            model.eval()\n",
        "            loss = run_epoch(\n",
        "                (Batch(*map(lambda x: x.cuda(), b), pad_idx) for b in valid_iter),\n",
        "                 model, SimpleLossCompute(model.generator, criterion, None, use_amp=True))\n",
        "            print(loss)\n",
        "else:\n",
        "    # Can't use this model because of the difference of the vocab.\n",
        "    model = torch.load('iwslt.pt')"
      ],
      "execution_count": 236,
      "outputs": [
        {
          "output_type": "stream",
          "text": [
            "Epoch Step: 1 Loss: 9.119954109191895              Tokens per Sec: 3883.522705078125\n",
            "Epoch Step: 201 Loss: 5.336925983428955              Tokens per Sec: 5091.51416015625\n",
            "Epoch Step: 401 Loss: 4.709068775177002              Tokens per Sec: 5128.20947265625\n",
            "Epoch Step: 601 Loss: 4.507014274597168              Tokens per Sec: 5045.123046875\n",
            "Epoch Step: 801 Loss: 4.4052276611328125              Tokens per Sec: 5093.86572265625\n",
            "Epoch Step: 1001 Loss: 4.471973896026611              Tokens per Sec: 5206.5888671875\n",
            "Epoch Step: 1201 Loss: 4.078723907470703              Tokens per Sec: 5129.06396484375\n",
            "Epoch Step: 1401 Loss: 4.024282455444336              Tokens per Sec: 5063.8359375\n",
            "Epoch Step: 1601 Loss: 3.709381341934204              Tokens per Sec: 5190.71875\n",
            "Epoch Step: 1801 Loss: 3.9943926334381104              Tokens per Sec: 5085.3388671875\n",
            "Epoch Step: 2001 Loss: 4.20001745223999              Tokens per Sec: 5070.00244140625\n",
            "Epoch Step: 2201 Loss: 4.043319225311279              Tokens per Sec: 5090.7255859375\n",
            "Epoch Step: 2401 Loss: 4.262725353240967              Tokens per Sec: 5046.35791015625\n",
            "Epoch Step: 2601 Loss: 3.890451192855835              Tokens per Sec: 5058.12109375\n",
            "Epoch Step: 2801 Loss: 3.9770748615264893              Tokens per Sec: 5035.119140625\n",
            "Epoch Step: 3001 Loss: 4.0099663734436035              Tokens per Sec: 5072.50390625\n",
            "Epoch Step: 3201 Loss: 3.9464662075042725              Tokens per Sec: 5152.7119140625\n",
            "Epoch Step: 3401 Loss: 3.900815963745117              Tokens per Sec: 5126.08447265625\n",
            "Epoch Step: 3601 Loss: 3.850724697113037              Tokens per Sec: 5048.203125\n",
            "Epoch Step: 3801 Loss: 3.871659994125366              Tokens per Sec: 5120.7265625\n",
            "Epoch Step: 4001 Loss: 3.9392449855804443              Tokens per Sec: 5100.6982421875\n",
            "Epoch Step: 4201 Loss: 3.779587984085083              Tokens per Sec: 5104.99755859375\n",
            "Epoch Step: 4401 Loss: 4.184333324432373              Tokens per Sec: 5051.91796875\n",
            "Epoch Step: 4601 Loss: 3.8271965980529785              Tokens per Sec: 5064.23583984375\n",
            "Epoch Step: 4801 Loss: 3.9420247077941895              Tokens per Sec: 5095.14111328125\n",
            "Epoch Step: 5001 Loss: 3.896623134613037              Tokens per Sec: 5106.61181640625\n",
            "Epoch Step: 5201 Loss: 3.7932822704315186              Tokens per Sec: 5106.2412109375\n",
            "Epoch Step: 5401 Loss: 3.711054801940918              Tokens per Sec: 5104.06005859375\n",
            "Epoch Step: 5601 Loss: 3.750742197036743              Tokens per Sec: 5053.85986328125\n",
            "Epoch Step: 5801 Loss: 3.8034329414367676              Tokens per Sec: 5052.275390625\n",
            "Epoch Step: 6001 Loss: 3.7982289791107178              Tokens per Sec: 4997.27392578125\n",
            "Epoch Step: 6201 Loss: 4.001858234405518              Tokens per Sec: 5106.3828125\n",
            "Epoch Step: 6401 Loss: 3.9661452770233154              Tokens per Sec: 5134.853515625\n",
            "Epoch Step: 6601 Loss: 3.8265318870544434              Tokens per Sec: 5150.90673828125\n",
            "Epoch Step: 6801 Loss: 3.7735249996185303              Tokens per Sec: 5098.79833984375\n",
            "Epoch Step: 7001 Loss: 3.830021381378174              Tokens per Sec: 5084.07958984375\n",
            "Epoch Step: 7201 Loss: 3.5671186447143555              Tokens per Sec: 5142.05712890625\n",
            "Epoch Step: 7401 Loss: 3.8204283714294434              Tokens per Sec: 5077.9736328125\n",
            "Epoch Step: 7601 Loss: 4.043941974639893              Tokens per Sec: 5125.88232421875\n",
            "Epoch Step: 7801 Loss: 3.6736156940460205              Tokens per Sec: 5123.20751953125\n",
            "Epoch Step: 1 Loss: 3.777445077896118              Tokens per Sec: 14201.326171875\n",
            "tensor(3.6365, device='cuda:0')\n",
            "Epoch Step: 1 Loss: 3.747544050216675              Tokens per Sec: 4617.12939453125\n",
            "Epoch Step: 201 Loss: 3.774061441421509              Tokens per Sec: 5113.78857421875\n",
            "Epoch Step: 401 Loss: 3.5652008056640625              Tokens per Sec: 5249.73974609375\n",
            "Epoch Step: 601 Loss: 3.778897523880005              Tokens per Sec: 5123.37548828125\n",
            "Epoch Step: 801 Loss: 3.539152145385742              Tokens per Sec: 5135.9130859375\n",
            "Epoch Step: 1001 Loss: 3.803673267364502              Tokens per Sec: 5022.16015625\n",
            "Epoch Step: 1201 Loss: 3.736034870147705              Tokens per Sec: 5030.85986328125\n",
            "Epoch Step: 1401 Loss: 3.763780117034912              Tokens per Sec: 4984.412109375\n",
            "Epoch Step: 1601 Loss: 3.669625997543335              Tokens per Sec: 5086.00341796875\n",
            "Epoch Step: 1801 Loss: 3.76599383354187              Tokens per Sec: 5057.92578125\n",
            "Epoch Step: 2001 Loss: 3.645934581756592              Tokens per Sec: 5098.76123046875\n",
            "Epoch Step: 2201 Loss: 3.3486623764038086              Tokens per Sec: 5003.30615234375\n",
            "Epoch Step: 2401 Loss: 3.745098829269409              Tokens per Sec: 5054.255859375\n",
            "Epoch Step: 2601 Loss: 3.8280394077301025              Tokens per Sec: 5112.79248046875\n",
            "Epoch Step: 2801 Loss: 3.565310001373291              Tokens per Sec: 5062.67236328125\n",
            "Epoch Step: 3001 Loss: 3.5816843509674072              Tokens per Sec: 5058.658203125\n",
            "Epoch Step: 3201 Loss: 3.7449533939361572              Tokens per Sec: 5073.373046875\n",
            "Epoch Step: 3401 Loss: 3.7175869941711426              Tokens per Sec: 5048.16259765625\n",
            "Epoch Step: 3601 Loss: 3.8502025604248047              Tokens per Sec: 5034.5498046875\n",
            "Epoch Step: 3801 Loss: 3.5893588066101074              Tokens per Sec: 5062.03955078125\n",
            "Epoch Step: 4001 Loss: 3.4036126136779785              Tokens per Sec: 5001.37353515625\n",
            "Epoch Step: 4201 Loss: 3.6680145263671875              Tokens per Sec: 5078.59765625\n",
            "Epoch Step: 4401 Loss: 3.386183023452759              Tokens per Sec: 5090.244140625\n",
            "Epoch Step: 4601 Loss: 3.71185040473938              Tokens per Sec: 5080.52294921875\n",
            "Epoch Step: 4801 Loss: 3.7636377811431885              Tokens per Sec: 5122.83837890625\n",
            "Epoch Step: 5001 Loss: 3.705488920211792              Tokens per Sec: 5118.6904296875\n",
            "Epoch Step: 5201 Loss: 3.767209529876709              Tokens per Sec: 5069.76220703125\n",
            "Epoch Step: 5401 Loss: 3.7177865505218506              Tokens per Sec: 5186.9658203125\n",
            "Epoch Step: 5601 Loss: 3.5163731575012207              Tokens per Sec: 5092.70654296875\n",
            "Epoch Step: 5801 Loss: 3.758739471435547              Tokens per Sec: 5075.62353515625\n",
            "Epoch Step: 6001 Loss: 3.629258632659912              Tokens per Sec: 5067.96240234375\n",
            "Epoch Step: 6201 Loss: 3.5298264026641846              Tokens per Sec: 5099.203125\n",
            "Epoch Step: 6401 Loss: 3.66745924949646              Tokens per Sec: 5039.18505859375\n",
            "Epoch Step: 6601 Loss: 3.5858709812164307              Tokens per Sec: 4954.4365234375\n",
            "Epoch Step: 6801 Loss: 3.66267728805542              Tokens per Sec: 5031.3916015625\n",
            "Epoch Step: 7001 Loss: 3.5795540809631348              Tokens per Sec: 5070.14599609375\n",
            "Epoch Step: 7201 Loss: 3.852144241333008              Tokens per Sec: 5090.00732421875\n",
            "Epoch Step: 7401 Loss: 3.5908002853393555              Tokens per Sec: 5049.865234375\n",
            "Epoch Step: 7601 Loss: 3.666342258453369              Tokens per Sec: 5041.06298828125\n",
            "Epoch Step: 7801 Loss: 3.7755699157714844              Tokens per Sec: 5056.48193359375\n",
            "Epoch Step: 1 Loss: 3.234393835067749              Tokens per Sec: 14635.275390625\n",
            "tensor(3.5036, device='cuda:0')\n"
          ],
          "name": "stdout"
        }
      ]
    },
    {
      "cell_type": "code",
      "metadata": {
        "id": "RxbF2LVSG1VX"
      },
      "source": [
        "from google.colab import drive\n",
        "drive.mount('/content/drive')"
      ],
      "execution_count": null,
      "outputs": []
    },
    {
      "cell_type": "markdown",
      "metadata": {
        "id": "U0Da15rKF94l"
      },
      "source": [
        "> Once trained we can decode the model to produce a set of translations. Here we simply translate the first sentence in the validation set. This dataset is pretty small so the translations with greedy search are reasonably accurate."
      ]
    },
    {
      "cell_type": "code",
      "metadata": {
        "id": "aJP9JwXq473h"
      },
      "source": [
        "PATH = 'model_IWSLT2016_basic.pt'\n",
        "torch.save({'epoch' : epoch,\n",
        "            'model_state_dict':model.state_dict(),\n",
        "            'NoamOpt_args' : {'model_size' : model.src_embed[0].d_model,\n",
        "                            'factor' : 1,\n",
        "                            'warmup' : 2000,\n",
        "                            'optimizer_state_dict' : model_opt.optimizer.state_dict()},\n",
        "            'loss': loss}, PATH)"
      ],
      "execution_count": 243,
      "outputs": []
    },
    {
      "cell_type": "code",
      "metadata": {
        "colab": {
          "base_uri": "https://localhost:8080/",
          "height": 33
        },
        "id": "UpTGT_lHOPtf",
        "outputId": "23f5a506-c535-4b39-ac09-9b1ce5111dce"
      },
      "source": [
        "from google.colab import files\n",
        "files.download(PATH)"
      ],
      "execution_count": 244,
      "outputs": [
        {
          "output_type": "display_data",
          "data": {
            "application/javascript": [
              "\n",
              "    async function download(id, filename, size) {\n",
              "      if (!google.colab.kernel.accessAllowed) {\n",
              "        return;\n",
              "      }\n",
              "      const div = document.createElement('div');\n",
              "      const label = document.createElement('label');\n",
              "      label.textContent = `Downloading \"${filename}\": `;\n",
              "      div.appendChild(label);\n",
              "      const progress = document.createElement('progress');\n",
              "      progress.max = size;\n",
              "      div.appendChild(progress);\n",
              "      document.body.appendChild(div);\n",
              "\n",
              "      const buffers = [];\n",
              "      let downloaded = 0;\n",
              "\n",
              "      const channel = await google.colab.kernel.comms.open(id);\n",
              "      // Send a message to notify the kernel that we're ready.\n",
              "      channel.send({})\n",
              "\n",
              "      for await (const message of channel.messages) {\n",
              "        // Send a message to notify the kernel that we're ready.\n",
              "        channel.send({})\n",
              "        if (message.buffers) {\n",
              "          for (const buffer of message.buffers) {\n",
              "            buffers.push(buffer);\n",
              "            downloaded += buffer.byteLength;\n",
              "            progress.value = downloaded;\n",
              "          }\n",
              "        }\n",
              "      }\n",
              "      const blob = new Blob(buffers, {type: 'application/binary'});\n",
              "      const a = document.createElement('a');\n",
              "      a.href = window.URL.createObjectURL(blob);\n",
              "      a.download = filename;\n",
              "      div.appendChild(a);\n",
              "      a.click();\n",
              "      div.remove();\n",
              "    }\n",
              "  "
            ],
            "text/plain": [
              "<IPython.core.display.Javascript object>"
            ]
          },
          "metadata": {
            "tags": []
          }
        },
        {
          "output_type": "display_data",
          "data": {
            "application/javascript": [
              "download(\"download_fce09147-d154-43a5-b339-b2716376f614\", \"model_IWSLT2016_basic.pt\", 1358402019)"
            ],
            "text/plain": [
              "<IPython.core.display.Javascript object>"
            ]
          },
          "metadata": {
            "tags": []
          }
        }
      ]
    },
    {
      "cell_type": "code",
      "metadata": {
        "id": "e3l1fzNDMlSc"
      },
      "source": [
        "!mv model_IWSLT2016_basic.pt drive/MyDrive/job_/"
      ],
      "execution_count": 240,
      "outputs": []
    },
    {
      "cell_type": "code",
      "metadata": {
        "colab": {
          "base_uri": "https://localhost:8080/"
        },
        "id": "AWlLenoTIAYT",
        "outputId": "2d4d1b68-4f10-44a7-b281-5df9fa0293d6"
      },
      "source": [
        "for i, batch in enumerate(valid_iter):\n",
        "    batch = tuple(map(lambda x : x.cuda(), batch))\n",
        "    src = batch[0][:1]\n",
        "    tgt = batch[1][:1]\n",
        "    src_mask = (src != new_src_vocab_stoi['<blank>']).unsqueeze(-2)\n",
        "    out = greedy_decode(model, src, src_mask, \n",
        "                        max_len=60, start_symbol=new_tgt_vocab_stoi['<s>'])\n",
        "    print(\"Translation:\", end=\"\\t\")\n",
        "    for i in range(1, out.size(1)):\n",
        "        sym = new_tgt_vocab_itos[out[0, i]]\n",
        "        if sym == \"</s>\": break\n",
        "        print(sym, end=' ')\n",
        "    print()\n",
        "\n",
        "    print(\"Source:\", end=\"\\t\")\n",
        "    for i in range(1, src.size(1)):\n",
        "        sym_src = new_src_vocab_itos[src[0, i]]\n",
        "        if sym_src == \"<blank>\": continue\n",
        "        print(sym_src, end=' ')\n",
        "    print()\n",
        "\n",
        "    print(\"Target:\", end='\\t')\n",
        "    for i in range(1, tgt.size(1)):\n",
        "        sym = new_tgt_vocab_itos[tgt[0, i]]\n",
        "        if sym == '</s>': break\n",
        "        print(sym, end=' ')\n",
        "    print()\n",
        "    break"
      ],
      "execution_count": 241,
      "outputs": [
        {
          "output_type": "stream",
          "text": [
            "Translation:\tBut the guy was going to be a <unk> and he was a very important , and it was a very important , and a very important to be a very important to be a very important to be a very important idea of the first time , and a very important idea of the first time , and \n",
            "Source:\thinter den <unk> und dem Frust und der niemals endenden Hyperaktivität war etwas wirklich Einzigartiges : eine reine und unschuldige Natur , ein Junge , der die Welt ohne Vorurteile sah , ein Mensch , der niemals gelogen hatte . <unk> \n",
            "Target:\tYet beyond the tantrums and the frustration and the never - ending hyperactivity was something really unique : a pure and innocent nature , a boy who saw the world without prejudice , a human who had never lied . <unk> \n"
          ],
          "name": "stdout"
        }
      ]
    },
    {
      "cell_type": "markdown",
      "metadata": {
        "id": "z5pSOE_22an_"
      },
      "source": [
        "# Additional Components: BPE, Search, Averaging\n"
      ]
    },
    {
      "cell_type": "markdown",
      "metadata": {
        "id": "C93eWcdUGUd5"
      },
      "source": [
        "> So this mostly covers the transformer model itself. There are four aspects that we didn’t cover explicitly. We also have all these additional features implemented in [OpenNMT-py](https://github.com/opennmt/opennmt-py)."
      ]
    },
    {
      "cell_type": "markdown",
      "metadata": {
        "id": "RecEWCOaeeuy"
      },
      "source": [
        "\n",
        "> 1) BPE/ Word-piece: We can use a library to first preprocess the data into subword units. See Rico Sennrich’s subword- nmt implementation. These models will transform the training data to look like this:\n",
        "  \n",
        "```▁Die ▁Protokoll datei ▁kann ▁ heimlich ▁per ▁E - Mail ▁oder ▁FTP ▁an ▁einen ▁bestimmte n ▁Empfänger ▁gesendet ▁werden .  ```"
      ]
    },
    {
      "cell_type": "markdown",
      "metadata": {
        "id": "mRmLjT70ehk0"
      },
      "source": [
        "  \n",
        "> 2) Shared Embeddings: When using BPE with shared vocabulary we can share the same weight vectors between the source / target / generator. See the [(cite)](https://arxiv.org/abs/1608.05859) for details. To add this to the model simply do this:"
      ]
    },
    {
      "cell_type": "code",
      "metadata": {
        "id": "Ea1cdLhNGd97"
      },
      "source": [
        "if False:\n",
        "    model.src_embed[0].lut.weight = model.tgt_embed[0].lut.weight\n",
        "    model.generator.lut.weight = model.tgt_embed[0].lut.weight"
      ],
      "execution_count": null,
      "outputs": []
    },
    {
      "cell_type": "markdown",
      "metadata": {
        "id": "5_i_YramJd3C"
      },
      "source": [
        "> 3) Beam Search: This is a bit too complicated to cover here. See the [OpenNMT-py](https://github.com/opennmt/opennmt-py). for a pytorch implementation.\n",
        "\n",
        "> 4) Model Averaging: The paper averages the last k checkpoints to create an ensembling effect. We can do this after the fact if we have a bunch of models:"
      ]
    },
    {
      "cell_type": "code",
      "metadata": {
        "id": "fknMOCMNJif7"
      },
      "source": [
        "def average(model, models):\n",
        "    \"Average models into model\"\n",
        "    for ps in zip(*[m.params() for m in [model] + models]):\n",
        "        p[0].copy_(torch.sum(*ps[1:]) / len(ps[1:]))"
      ],
      "execution_count": null,
      "outputs": []
    },
    {
      "cell_type": "markdown",
      "metadata": {
        "id": "ixBSdtjeMLl2"
      },
      "source": [
        "# Rererences"
      ]
    },
    {
      "cell_type": "markdown",
      "metadata": {
        "id": "9kCgHUtnMPG1"
      },
      "source": [
        "- [Anotated Transformer](http://nlp.seas.harvard.edu/2018/04/03/attention.html) \n",
        "- [Torchtext 1.0  source code](https://github.com/pytorch/text/tree/master/torchtext)\n",
        "- [Torchtext 0.4 source code-field](https://github.com/pytorch/text/blob/0.4.0/torchtext/data/field.py)\n",
        "- [Torchtext 0.4 source code-traslation](https://github.com/pytorch/text/blob/0.4.0/torchtext/datasets/translation.py)\n",
        "- [Torchtext 0.4 Document](https://github.com/pytorch/text/blob/0.4.0/torchtext/data/field.py)\n",
        "- [Torchtext 0.8 NMT Tutorial](https://tutorials.pytorch.kr/beginner/torchtext_translation.html)\n",
        "- [Torchtext 0.9.0 release note](https://github.com/pytorch/text/releases/tag/v0.9.0-rc5)\n",
        "- [Torchtext 0.8->0.9 migration tutorial](https://github.com/pytorch/text/blob/master/examples/legacy_tutorial/migration_tutorial.ipynb)\n",
        "- https://towardsdatascience.com/understanding-transformers-the-programming-way-f8ed22d112b2\n",
        "\n",
        "- [PyTorch AMP Document](https://pytorch.org/tutorials/recipes/recipes/amp_recipe.html)"
      ]
    }
  ]
}